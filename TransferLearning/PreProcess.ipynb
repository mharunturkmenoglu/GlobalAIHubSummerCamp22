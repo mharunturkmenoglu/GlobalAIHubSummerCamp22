{
  "cells": [
    {
      "cell_type": "code",
      "execution_count": null,
      "metadata": {
        "id": "pL8tCt0--P7m"
      },
      "outputs": [],
      "source": [
        "import urllib.request\n",
        "import zipfile\n",
        "import os\n",
        "from sklearn.model_selection import train_test_split\n",
        "import cv2\n",
        "import numpy as np\n",
        "import tensorflow as tf\n",
        "import tensorflow_datasets as tfds\n",
        "import matplotlib.pyplot as plt"
      ]
    },
    {
      "cell_type": "code",
      "execution_count": null,
      "metadata": {
        "id": "uKC-Zf8o62vA"
      },
      "outputs": [],
      "source": [
        "data_url = \"https://download.microsoft.com/download/3/E/1/3E1C3F21-ECDB-4869-8368-6DEBA77B919F/kagglecatsanddogs_5340.zip\"\n",
        "data_file_name = \"catsdogs.zip\"\n",
        "download_dir = '/content/'\n",
        "urllib.request.urlretrieve(data_url, data_file_name)\n",
        "zip_ref = zipfile.ZipFile(data_file_name, 'r')\n",
        "zip_ref.extractall(download_dir)\n",
        "zip_ref.close()"
      ]
    },
    {
      "cell_type": "code",
      "execution_count": null,
      "metadata": {
        "id": "6rGGBCIO_m-b"
      },
      "outputs": [],
      "source": [
        "source_cat = \"PetImages/Cat/\"\n",
        "source_dog = \"PetImages/Dog/\"\n"
      ]
    },
    {
      "cell_type": "code",
      "execution_count": null,
      "metadata": {
        "id": "kQ4e9RB3_Qa7"
      },
      "outputs": [],
      "source": [
        "X = []\n",
        "y = []"
      ]
    },
    {
      "cell_type": "code",
      "execution_count": null,
      "metadata": {
        "id": "iWD7CUOm-apl"
      },
      "outputs": [],
      "source": [
        "# Append cat photos and labels\n",
        "for filename in os.listdir(source_cat):\n",
        "    path = os.path.join(source_cat, filename)\n",
        "    if os.path.getsize(path) > 0 and filename != \"Thumbs.db\":\n",
        "      img = cv2.imread(path)\n",
        "      if img is None:\n",
        "        continue\n",
        "      img = cv2.resize(img, (150, 150), interpolation= cv2.INTER_LINEAR)\n",
        "      X.append(img)\n",
        "      y.append(0)\n",
        "\n",
        "# Append dog photos and labels\n",
        "for filename in os.listdir(source_dog):\n",
        "    path = os.path.join(source_cat, filename)\n",
        "    if os.path.getsize(path) > 0 and filename != \"Thumbs.db\":\n",
        "      if img is None:\n",
        "        continue\n",
        "      img = cv2.resize(img, (150, 150), interpolation= cv2.INTER_LINEAR)\n",
        "      X.append(img)\n",
        "      y.append(1)"
      ]
    },
    {
      "cell_type": "code",
      "execution_count": null,
      "metadata": {
        "id": "O8kv2o6BAPme",
        "outputId": "778b142b-af52-426d-adc4-cec8add59a7f",
        "scrolled": true
      },
      "outputs": [
        {
          "name": "stdout",
          "output_type": "stream",
          "text": [
            "Lenght of samples: 24975\n",
            "Lenght of labels: 24975\n"
          ]
        }
      ],
      "source": [
        "print(\"Lenght of samples:\" ,len(X))\n",
        "print(\"Lenght of labels:\", len(y))"
      ]
    },
    {
      "cell_type": "code",
      "execution_count": null,
      "metadata": {
        "id": "3VNxvxJH5VHQ",
        "scrolled": true
      },
      "outputs": [],
      "source": [
        "X = np.array(X, dtype='float64')\n",
        "y = np.array(y, dtype = 'uint16')"
      ]
    },
    {
      "cell_type": "code",
      "execution_count": null,
      "metadata": {
        "id": "GEtA-AQEGtFQ"
      },
      "outputs": [],
      "source": [
        "X = X / 255.0"
      ]
    },
    {
      "cell_type": "code",
      "execution_count": null,
      "metadata": {
        "id": "n7YHjtPgAuH8"
      },
      "outputs": [],
      "source": [
        "# split test, train and validation\n",
        "X_train, X_test, y_train, y_test = train_test_split(X, y, test_size=0.2, random_state=42)"
      ]
    },
    {
      "cell_type": "code",
      "execution_count": null,
      "metadata": {
        "id": "qUqwzMrj8zTO"
      },
      "outputs": [],
      "source": [
        "X_train, X_val, y_train, y_val = train_test_split(X_train, y_train, test_size=0.25, random_state=42)"
      ]
    },
    {
      "cell_type": "code",
      "execution_count": null,
      "metadata": {
        "id": "nYq7ZBM89a-n",
        "outputId": "6cafece0-3b74-4c3f-8397-4786ac12c51f"
      },
      "outputs": [
        {
          "name": "stdout",
          "output_type": "stream",
          "text": [
            "X_train: 14985\n",
            "y_train: 14985\n",
            "X_test: 4995\n",
            "y_test: 4995\n",
            "X_val: 4995\n",
            "y_val: 4995\n"
          ]
        }
      ],
      "source": [
        "print('X_train:', len(X_train))\n",
        "print('y_train:', len(y_train))\n",
        "print('X_test:', len(X_test))\n",
        "print('y_test:', len(X_test))\n",
        "print('X_val:', len(X_test))\n",
        "print('y_val:', len(X_test))"
      ]
    },
    {
      "cell_type": "code",
      "execution_count": null,
      "metadata": {
        "id": "p-17bNiY5VHS"
      },
      "outputs": [],
      "source": [
        "# save numpy arrays\n",
        "np.savez(\"X_train\",X_train)\n",
        "np.savez(\"y_train\",y_train)\n",
        "np.savez(\"X_test\",X_test)\n",
        "np.savez(\"y_test\",y_test)\n",
        "np.savez(\"X_val\",X_val)\n",
        "np.savez(\"y_val\",y_val)"
      ]
    }
  ],
  "metadata": {
    "colab": {
      "collapsed_sections": [],
      "name": "PreProcess.ipynb",
      "provenance": []
    },
    "gpuClass": "standard",
    "kernelspec": {
      "display_name": "Python 3 (ipykernel)",
      "language": "python",
      "name": "python3"
    },
    "language_info": {
      "codemirror_mode": {
        "name": "ipython",
        "version": 3
      },
      "file_extension": ".py",
      "mimetype": "text/x-python",
      "name": "python",
      "nbconvert_exporter": "python",
      "pygments_lexer": "ipython3",
      "version": "3.10.4"
    }
  },
  "nbformat": 4,
  "nbformat_minor": 0
}
