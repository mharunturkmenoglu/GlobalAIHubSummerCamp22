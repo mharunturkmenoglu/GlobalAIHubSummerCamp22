{
  "nbformat": 4,
  "nbformat_minor": 0,
  "metadata": {
    "colab": {
      "name": "Medical_Cost_Analysis.ipynb",
      "provenance": [],
      "collapsed_sections": [],
      "toc_visible": true
    },
    "kernelspec": {
      "name": "python3",
      "display_name": "Python 3"
    },
    "language_info": {
      "name": "python"
    }
  },
  "cells": [
    {
      "cell_type": "code",
      "execution_count": 1,
      "metadata": {
        "id": "pWwiNd56pYVY"
      },
      "outputs": [],
      "source": [
        "import pandas as pd\n",
        "import numpy as np\n",
        "import seaborn as sns\n",
        "import matplotlib.pyplot as plt"
      ]
    },
    {
      "cell_type": "code",
      "source": [
        "from sklearn.model_selection import train_test_split\n",
        "from sklearn.preprocessing import LabelEncoder\n",
        "from sklearn.model_selection import GridSearchCV\n",
        "from sklearn.metrics import mean_squared_error, r2_score, mean_absolute_percentage_error, mean_absolute_error\n",
        "from sklearn.model_selection import cross_val_score"
      ],
      "metadata": {
        "id": "KUnKOrdLUoFA"
      },
      "execution_count": 2,
      "outputs": []
    },
    {
      "cell_type": "code",
      "source": [
        "from sklearn.linear_model import LinearRegression\n",
        "from sklearn.ensemble import RandomForestRegressor\n",
        "from sklearn.linear_model import LogisticRegression\n",
        "from sklearn.neural_network import MLPRegressor\n",
        "from sklearn.datasets import make_regression\n",
        "from sklearn.neighbors import KNeighborsRegressor\n",
        "from sklearn.linear_model import Ridge\n",
        "from sklearn.svm import SVR\n",
        "import xgboost as xg"
      ],
      "metadata": {
        "id": "Uyp8KqK7a0Qy"
      },
      "execution_count": 3,
      "outputs": []
    },
    {
      "cell_type": "code",
      "source": [
        "data = pd.read_csv('insurance.csv')"
      ],
      "metadata": {
        "id": "MKfsn00vZ8CO"
      },
      "execution_count": 4,
      "outputs": []
    },
    {
      "cell_type": "code",
      "source": [
        "data.head()"
      ],
      "metadata": {
        "colab": {
          "base_uri": "https://localhost:8080/",
          "height": 206
        },
        "id": "V6RBDprMaCOh",
        "outputId": "be6861fc-55e5-4433-f415-a9caeb72fc64"
      },
      "execution_count": 5,
      "outputs": [
        {
          "output_type": "execute_result",
          "data": {
            "text/plain": [
              "   age     sex     bmi  children smoker     region      charges\n",
              "0   19  female  27.900         0    yes  southwest  16884.92400\n",
              "1   18    male  33.770         1     no  southeast   1725.55230\n",
              "2   28    male  33.000         3     no  southeast   4449.46200\n",
              "3   33    male  22.705         0     no  northwest  21984.47061\n",
              "4   32    male  28.880         0     no  northwest   3866.85520"
            ],
            "text/html": [
              "\n",
              "  <div id=\"df-75029677-fedb-4ec8-9c4a-f8e3e51942bc\">\n",
              "    <div class=\"colab-df-container\">\n",
              "      <div>\n",
              "<style scoped>\n",
              "    .dataframe tbody tr th:only-of-type {\n",
              "        vertical-align: middle;\n",
              "    }\n",
              "\n",
              "    .dataframe tbody tr th {\n",
              "        vertical-align: top;\n",
              "    }\n",
              "\n",
              "    .dataframe thead th {\n",
              "        text-align: right;\n",
              "    }\n",
              "</style>\n",
              "<table border=\"1\" class=\"dataframe\">\n",
              "  <thead>\n",
              "    <tr style=\"text-align: right;\">\n",
              "      <th></th>\n",
              "      <th>age</th>\n",
              "      <th>sex</th>\n",
              "      <th>bmi</th>\n",
              "      <th>children</th>\n",
              "      <th>smoker</th>\n",
              "      <th>region</th>\n",
              "      <th>charges</th>\n",
              "    </tr>\n",
              "  </thead>\n",
              "  <tbody>\n",
              "    <tr>\n",
              "      <th>0</th>\n",
              "      <td>19</td>\n",
              "      <td>female</td>\n",
              "      <td>27.900</td>\n",
              "      <td>0</td>\n",
              "      <td>yes</td>\n",
              "      <td>southwest</td>\n",
              "      <td>16884.92400</td>\n",
              "    </tr>\n",
              "    <tr>\n",
              "      <th>1</th>\n",
              "      <td>18</td>\n",
              "      <td>male</td>\n",
              "      <td>33.770</td>\n",
              "      <td>1</td>\n",
              "      <td>no</td>\n",
              "      <td>southeast</td>\n",
              "      <td>1725.55230</td>\n",
              "    </tr>\n",
              "    <tr>\n",
              "      <th>2</th>\n",
              "      <td>28</td>\n",
              "      <td>male</td>\n",
              "      <td>33.000</td>\n",
              "      <td>3</td>\n",
              "      <td>no</td>\n",
              "      <td>southeast</td>\n",
              "      <td>4449.46200</td>\n",
              "    </tr>\n",
              "    <tr>\n",
              "      <th>3</th>\n",
              "      <td>33</td>\n",
              "      <td>male</td>\n",
              "      <td>22.705</td>\n",
              "      <td>0</td>\n",
              "      <td>no</td>\n",
              "      <td>northwest</td>\n",
              "      <td>21984.47061</td>\n",
              "    </tr>\n",
              "    <tr>\n",
              "      <th>4</th>\n",
              "      <td>32</td>\n",
              "      <td>male</td>\n",
              "      <td>28.880</td>\n",
              "      <td>0</td>\n",
              "      <td>no</td>\n",
              "      <td>northwest</td>\n",
              "      <td>3866.85520</td>\n",
              "    </tr>\n",
              "  </tbody>\n",
              "</table>\n",
              "</div>\n",
              "      <button class=\"colab-df-convert\" onclick=\"convertToInteractive('df-75029677-fedb-4ec8-9c4a-f8e3e51942bc')\"\n",
              "              title=\"Convert this dataframe to an interactive table.\"\n",
              "              style=\"display:none;\">\n",
              "        \n",
              "  <svg xmlns=\"http://www.w3.org/2000/svg\" height=\"24px\"viewBox=\"0 0 24 24\"\n",
              "       width=\"24px\">\n",
              "    <path d=\"M0 0h24v24H0V0z\" fill=\"none\"/>\n",
              "    <path d=\"M18.56 5.44l.94 2.06.94-2.06 2.06-.94-2.06-.94-.94-2.06-.94 2.06-2.06.94zm-11 1L8.5 8.5l.94-2.06 2.06-.94-2.06-.94L8.5 2.5l-.94 2.06-2.06.94zm10 10l.94 2.06.94-2.06 2.06-.94-2.06-.94-.94-2.06-.94 2.06-2.06.94z\"/><path d=\"M17.41 7.96l-1.37-1.37c-.4-.4-.92-.59-1.43-.59-.52 0-1.04.2-1.43.59L10.3 9.45l-7.72 7.72c-.78.78-.78 2.05 0 2.83L4 21.41c.39.39.9.59 1.41.59.51 0 1.02-.2 1.41-.59l7.78-7.78 2.81-2.81c.8-.78.8-2.07 0-2.86zM5.41 20L4 18.59l7.72-7.72 1.47 1.35L5.41 20z\"/>\n",
              "  </svg>\n",
              "      </button>\n",
              "      \n",
              "  <style>\n",
              "    .colab-df-container {\n",
              "      display:flex;\n",
              "      flex-wrap:wrap;\n",
              "      gap: 12px;\n",
              "    }\n",
              "\n",
              "    .colab-df-convert {\n",
              "      background-color: #E8F0FE;\n",
              "      border: none;\n",
              "      border-radius: 50%;\n",
              "      cursor: pointer;\n",
              "      display: none;\n",
              "      fill: #1967D2;\n",
              "      height: 32px;\n",
              "      padding: 0 0 0 0;\n",
              "      width: 32px;\n",
              "    }\n",
              "\n",
              "    .colab-df-convert:hover {\n",
              "      background-color: #E2EBFA;\n",
              "      box-shadow: 0px 1px 2px rgba(60, 64, 67, 0.3), 0px 1px 3px 1px rgba(60, 64, 67, 0.15);\n",
              "      fill: #174EA6;\n",
              "    }\n",
              "\n",
              "    [theme=dark] .colab-df-convert {\n",
              "      background-color: #3B4455;\n",
              "      fill: #D2E3FC;\n",
              "    }\n",
              "\n",
              "    [theme=dark] .colab-df-convert:hover {\n",
              "      background-color: #434B5C;\n",
              "      box-shadow: 0px 1px 3px 1px rgba(0, 0, 0, 0.15);\n",
              "      filter: drop-shadow(0px 1px 2px rgba(0, 0, 0, 0.3));\n",
              "      fill: #FFFFFF;\n",
              "    }\n",
              "  </style>\n",
              "\n",
              "      <script>\n",
              "        const buttonEl =\n",
              "          document.querySelector('#df-75029677-fedb-4ec8-9c4a-f8e3e51942bc button.colab-df-convert');\n",
              "        buttonEl.style.display =\n",
              "          google.colab.kernel.accessAllowed ? 'block' : 'none';\n",
              "\n",
              "        async function convertToInteractive(key) {\n",
              "          const element = document.querySelector('#df-75029677-fedb-4ec8-9c4a-f8e3e51942bc');\n",
              "          const dataTable =\n",
              "            await google.colab.kernel.invokeFunction('convertToInteractive',\n",
              "                                                     [key], {});\n",
              "          if (!dataTable) return;\n",
              "\n",
              "          const docLinkHtml = 'Like what you see? Visit the ' +\n",
              "            '<a target=\"_blank\" href=https://colab.research.google.com/notebooks/data_table.ipynb>data table notebook</a>'\n",
              "            + ' to learn more about interactive tables.';\n",
              "          element.innerHTML = '';\n",
              "          dataTable['output_type'] = 'display_data';\n",
              "          await google.colab.output.renderOutput(dataTable, element);\n",
              "          const docLink = document.createElement('div');\n",
              "          docLink.innerHTML = docLinkHtml;\n",
              "          element.appendChild(docLink);\n",
              "        }\n",
              "      </script>\n",
              "    </div>\n",
              "  </div>\n",
              "  "
            ]
          },
          "metadata": {},
          "execution_count": 5
        }
      ]
    },
    {
      "cell_type": "code",
      "source": [
        "data.tail()"
      ],
      "metadata": {
        "colab": {
          "base_uri": "https://localhost:8080/",
          "height": 206
        },
        "id": "PBmFEIqzaFLR",
        "outputId": "d288506d-d8c3-4eb2-8d1d-978e9f1ae368"
      },
      "execution_count": 6,
      "outputs": [
        {
          "output_type": "execute_result",
          "data": {
            "text/plain": [
              "      age     sex    bmi  children smoker     region     charges\n",
              "1333   50    male  30.97         3     no  northwest  10600.5483\n",
              "1334   18  female  31.92         0     no  northeast   2205.9808\n",
              "1335   18  female  36.85         0     no  southeast   1629.8335\n",
              "1336   21  female  25.80         0     no  southwest   2007.9450\n",
              "1337   61  female  29.07         0    yes  northwest  29141.3603"
            ],
            "text/html": [
              "\n",
              "  <div id=\"df-1bd99b04-5f24-4179-8409-c68cf4e11ed0\">\n",
              "    <div class=\"colab-df-container\">\n",
              "      <div>\n",
              "<style scoped>\n",
              "    .dataframe tbody tr th:only-of-type {\n",
              "        vertical-align: middle;\n",
              "    }\n",
              "\n",
              "    .dataframe tbody tr th {\n",
              "        vertical-align: top;\n",
              "    }\n",
              "\n",
              "    .dataframe thead th {\n",
              "        text-align: right;\n",
              "    }\n",
              "</style>\n",
              "<table border=\"1\" class=\"dataframe\">\n",
              "  <thead>\n",
              "    <tr style=\"text-align: right;\">\n",
              "      <th></th>\n",
              "      <th>age</th>\n",
              "      <th>sex</th>\n",
              "      <th>bmi</th>\n",
              "      <th>children</th>\n",
              "      <th>smoker</th>\n",
              "      <th>region</th>\n",
              "      <th>charges</th>\n",
              "    </tr>\n",
              "  </thead>\n",
              "  <tbody>\n",
              "    <tr>\n",
              "      <th>1333</th>\n",
              "      <td>50</td>\n",
              "      <td>male</td>\n",
              "      <td>30.97</td>\n",
              "      <td>3</td>\n",
              "      <td>no</td>\n",
              "      <td>northwest</td>\n",
              "      <td>10600.5483</td>\n",
              "    </tr>\n",
              "    <tr>\n",
              "      <th>1334</th>\n",
              "      <td>18</td>\n",
              "      <td>female</td>\n",
              "      <td>31.92</td>\n",
              "      <td>0</td>\n",
              "      <td>no</td>\n",
              "      <td>northeast</td>\n",
              "      <td>2205.9808</td>\n",
              "    </tr>\n",
              "    <tr>\n",
              "      <th>1335</th>\n",
              "      <td>18</td>\n",
              "      <td>female</td>\n",
              "      <td>36.85</td>\n",
              "      <td>0</td>\n",
              "      <td>no</td>\n",
              "      <td>southeast</td>\n",
              "      <td>1629.8335</td>\n",
              "    </tr>\n",
              "    <tr>\n",
              "      <th>1336</th>\n",
              "      <td>21</td>\n",
              "      <td>female</td>\n",
              "      <td>25.80</td>\n",
              "      <td>0</td>\n",
              "      <td>no</td>\n",
              "      <td>southwest</td>\n",
              "      <td>2007.9450</td>\n",
              "    </tr>\n",
              "    <tr>\n",
              "      <th>1337</th>\n",
              "      <td>61</td>\n",
              "      <td>female</td>\n",
              "      <td>29.07</td>\n",
              "      <td>0</td>\n",
              "      <td>yes</td>\n",
              "      <td>northwest</td>\n",
              "      <td>29141.3603</td>\n",
              "    </tr>\n",
              "  </tbody>\n",
              "</table>\n",
              "</div>\n",
              "      <button class=\"colab-df-convert\" onclick=\"convertToInteractive('df-1bd99b04-5f24-4179-8409-c68cf4e11ed0')\"\n",
              "              title=\"Convert this dataframe to an interactive table.\"\n",
              "              style=\"display:none;\">\n",
              "        \n",
              "  <svg xmlns=\"http://www.w3.org/2000/svg\" height=\"24px\"viewBox=\"0 0 24 24\"\n",
              "       width=\"24px\">\n",
              "    <path d=\"M0 0h24v24H0V0z\" fill=\"none\"/>\n",
              "    <path d=\"M18.56 5.44l.94 2.06.94-2.06 2.06-.94-2.06-.94-.94-2.06-.94 2.06-2.06.94zm-11 1L8.5 8.5l.94-2.06 2.06-.94-2.06-.94L8.5 2.5l-.94 2.06-2.06.94zm10 10l.94 2.06.94-2.06 2.06-.94-2.06-.94-.94-2.06-.94 2.06-2.06.94z\"/><path d=\"M17.41 7.96l-1.37-1.37c-.4-.4-.92-.59-1.43-.59-.52 0-1.04.2-1.43.59L10.3 9.45l-7.72 7.72c-.78.78-.78 2.05 0 2.83L4 21.41c.39.39.9.59 1.41.59.51 0 1.02-.2 1.41-.59l7.78-7.78 2.81-2.81c.8-.78.8-2.07 0-2.86zM5.41 20L4 18.59l7.72-7.72 1.47 1.35L5.41 20z\"/>\n",
              "  </svg>\n",
              "      </button>\n",
              "      \n",
              "  <style>\n",
              "    .colab-df-container {\n",
              "      display:flex;\n",
              "      flex-wrap:wrap;\n",
              "      gap: 12px;\n",
              "    }\n",
              "\n",
              "    .colab-df-convert {\n",
              "      background-color: #E8F0FE;\n",
              "      border: none;\n",
              "      border-radius: 50%;\n",
              "      cursor: pointer;\n",
              "      display: none;\n",
              "      fill: #1967D2;\n",
              "      height: 32px;\n",
              "      padding: 0 0 0 0;\n",
              "      width: 32px;\n",
              "    }\n",
              "\n",
              "    .colab-df-convert:hover {\n",
              "      background-color: #E2EBFA;\n",
              "      box-shadow: 0px 1px 2px rgba(60, 64, 67, 0.3), 0px 1px 3px 1px rgba(60, 64, 67, 0.15);\n",
              "      fill: #174EA6;\n",
              "    }\n",
              "\n",
              "    [theme=dark] .colab-df-convert {\n",
              "      background-color: #3B4455;\n",
              "      fill: #D2E3FC;\n",
              "    }\n",
              "\n",
              "    [theme=dark] .colab-df-convert:hover {\n",
              "      background-color: #434B5C;\n",
              "      box-shadow: 0px 1px 3px 1px rgba(0, 0, 0, 0.15);\n",
              "      filter: drop-shadow(0px 1px 2px rgba(0, 0, 0, 0.3));\n",
              "      fill: #FFFFFF;\n",
              "    }\n",
              "  </style>\n",
              "\n",
              "      <script>\n",
              "        const buttonEl =\n",
              "          document.querySelector('#df-1bd99b04-5f24-4179-8409-c68cf4e11ed0 button.colab-df-convert');\n",
              "        buttonEl.style.display =\n",
              "          google.colab.kernel.accessAllowed ? 'block' : 'none';\n",
              "\n",
              "        async function convertToInteractive(key) {\n",
              "          const element = document.querySelector('#df-1bd99b04-5f24-4179-8409-c68cf4e11ed0');\n",
              "          const dataTable =\n",
              "            await google.colab.kernel.invokeFunction('convertToInteractive',\n",
              "                                                     [key], {});\n",
              "          if (!dataTable) return;\n",
              "\n",
              "          const docLinkHtml = 'Like what you see? Visit the ' +\n",
              "            '<a target=\"_blank\" href=https://colab.research.google.com/notebooks/data_table.ipynb>data table notebook</a>'\n",
              "            + ' to learn more about interactive tables.';\n",
              "          element.innerHTML = '';\n",
              "          dataTable['output_type'] = 'display_data';\n",
              "          await google.colab.output.renderOutput(dataTable, element);\n",
              "          const docLink = document.createElement('div');\n",
              "          docLink.innerHTML = docLinkHtml;\n",
              "          element.appendChild(docLink);\n",
              "        }\n",
              "      </script>\n",
              "    </div>\n",
              "  </div>\n",
              "  "
            ]
          },
          "metadata": {},
          "execution_count": 6
        }
      ]
    },
    {
      "cell_type": "code",
      "source": [
        "data.info()"
      ],
      "metadata": {
        "colab": {
          "base_uri": "https://localhost:8080/"
        },
        "id": "UGwj1VeMa4gq",
        "outputId": "6bab503d-04f8-42bf-e3b3-ee0b22710020"
      },
      "execution_count": 7,
      "outputs": [
        {
          "output_type": "stream",
          "name": "stdout",
          "text": [
            "<class 'pandas.core.frame.DataFrame'>\n",
            "RangeIndex: 1338 entries, 0 to 1337\n",
            "Data columns (total 7 columns):\n",
            " #   Column    Non-Null Count  Dtype  \n",
            "---  ------    --------------  -----  \n",
            " 0   age       1338 non-null   int64  \n",
            " 1   sex       1338 non-null   object \n",
            " 2   bmi       1338 non-null   float64\n",
            " 3   children  1338 non-null   int64  \n",
            " 4   smoker    1338 non-null   object \n",
            " 5   region    1338 non-null   object \n",
            " 6   charges   1338 non-null   float64\n",
            "dtypes: float64(2), int64(2), object(3)\n",
            "memory usage: 73.3+ KB\n"
          ]
        }
      ]
    },
    {
      "cell_type": "markdown",
      "source": [
        "# Exploratory Data Analysis"
      ],
      "metadata": {
        "id": "u4lHaBKcV24G"
      }
    },
    {
      "cell_type": "markdown",
      "source": [
        "### Distribution Graph of BMI"
      ],
      "metadata": {
        "id": "mpEExdOOV_Tt"
      }
    },
    {
      "cell_type": "markdown",
      "source": [
        "![bmi-onemli-bir-degisken.jpg](data:image/jpeg;base64,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)"
      ],
      "metadata": {
        "id": "Ns9lkjFLhz2o"
      }
    },
    {
      "cell_type": "code",
      "source": [
        "bmi = pd.cut(x=data['bmi'],\n",
        "             bins=[15, 18, 25, 30, 35, 55]).value_counts().sort_index()\n",
        "\n",
        "print(bmi)"
      ],
      "metadata": {
        "colab": {
          "base_uri": "https://localhost:8080/"
        },
        "id": "hD_xFVlbbJzI",
        "outputId": "400414f5-13e2-4147-d518-d1327512c44e"
      },
      "execution_count": 8,
      "outputs": [
        {
          "output_type": "stream",
          "name": "stdout",
          "text": [
            "(15, 18]     15\n",
            "(18, 25]    232\n",
            "(25, 30]    386\n",
            "(30, 35]    389\n",
            "(35, 55]    316\n",
            "Name: bmi, dtype: int64\n"
          ]
        }
      ]
    },
    {
      "cell_type": "code",
      "source": [
        "charges_by_bmi = data[['bmi', 'charges']]"
      ],
      "metadata": {
        "id": "IhP_Nxevn0Ay"
      },
      "execution_count": 9,
      "outputs": []
    },
    {
      "cell_type": "code",
      "source": [
        "labels = ['15-18','18-25', '25-30', '30-35', '35-55']\n",
        "plt.figure(figsize=(7.9, 7.9))\n",
        "plt.pie(bmi, labels = labels, colors=['#00FFFF', 'green', 'yellow', 'orange', 'red'])\n",
        "plt.title(\"Distribution of BMI\")\n",
        "plt.show()\n"
      ],
      "metadata": {
        "colab": {
          "base_uri": "https://localhost:8080/",
          "height": 476
        },
        "id": "Vm41VvLPvf9u",
        "outputId": "4a731c4e-6536-4c20-9c64-e3d093a4b38b"
      },
      "execution_count": 10,
      "outputs": [
        {
          "output_type": "display_data",
          "data": {
            "text/plain": [
              "<Figure size 568.8x568.8 with 1 Axes>"
            ],
            "image/png": "[encoded data removed]"
          },
          "metadata": {}
        }
      ]
    },
    {
      "cell_type": "markdown",
      "source": [
        "As you see pie chart above, BMI values is distributed between 15 and 55  "
      ],
      "metadata": {
        "id": "L85MtRfL6jaB"
      }
    },
    {
      "cell_type": "markdown",
      "source": [
        "### Relation Beetween Smoker and Charges"
      ],
      "metadata": {
        "id": "NZXTk0QNWeUA"
      }
    },
    {
      "cell_type": "code",
      "source": [
        "average_smoker = data.groupby(data['smoker'])['charges'].mean()"
      ],
      "metadata": {
        "id": "D7NnG2L55Wak"
      },
      "execution_count": 11,
      "outputs": []
    },
    {
      "cell_type": "code",
      "source": [
        "average_smoker"
      ],
      "metadata": {
        "colab": {
          "base_uri": "https://localhost:8080/"
        },
        "id": "oJ6AWg9H51Td",
        "outputId": "55ac2c39-d31d-4797-d781-6480346b4a8d"
      },
      "execution_count": 12,
      "outputs": [
        {
          "output_type": "execute_result",
          "data": {
            "text/plain": [
              "smoker\n",
              "no      8434.268298\n",
              "yes    32050.231832\n",
              "Name: charges, dtype: float64"
            ]
          },
          "metadata": {},
          "execution_count": 12
        }
      ]
    },
    {
      "cell_type": "code",
      "source": [
        "plt.bar(average_smoker.index, average_smoker.values, color=['green', 'red'])\n",
        "plt.xlabel(\"Smoking Habit\")\n",
        "plt.ylabel(\"Medical Cost\")\n",
        "plt.title(\"Medical Cost by Smoking Habit\")"
      ],
      "metadata": {
        "colab": {
          "base_uri": "https://localhost:8080/",
          "height": 312
        },
        "id": "Jsk5ItVCYJHK",
        "outputId": "d705a5ff-038c-4a9a-8f9f-cec87408781b"
      },
      "execution_count": 13,
      "outputs": [
        {
          "output_type": "execute_result",
          "data": {
            "text/plain": [
              "Text(0.5, 1.0, 'Medical Cost by Smoking Habit')"
            ]
          },
          "metadata": {},
          "execution_count": 13
        },
        {
          "output_type": "display_data",
          "data": {
            "text/plain": [
              "<Figure size 432x288 with 1 Axes>"
            ],
            "image/png": "[encoded data removed]"
          },
          "metadata": {
            "needs_background": "light"
          }
        }
      ]
    },
    {
      "cell_type": "markdown",
      "source": [
        "The graph shows us people who smoke face 2.8 times more medical cost."
      ],
      "metadata": {
        "id": "ZrauiFW482iT"
      }
    },
    {
      "cell_type": "markdown",
      "source": [
        "## Relation Beetween Smoker and Region"
      ],
      "metadata": {
        "id": "t2gX3WvXU6mz"
      }
    },
    {
      "cell_type": "markdown",
      "source": [
        "Number of records for each smoking region;"
      ],
      "metadata": {
        "id": "TCNh-piEVJ6l"
      }
    },
    {
      "cell_type": "code",
      "source": [
        "result = data.query('smoker == \"yes\"').groupby(\"region\").count()\n",
        "\n",
        "print(result.filter(items=['smoker']))"
      ],
      "metadata": {
        "colab": {
          "base_uri": "https://localhost:8080/"
        },
        "id": "4JfQqjP5Vc7X",
        "outputId": "11d4bd82-bde4-4dc1-d5df-2c3e0fbe107f"
      },
      "execution_count": 14,
      "outputs": [
        {
          "output_type": "stream",
          "name": "stdout",
          "text": [
            "           smoker\n",
            "region           \n",
            "northeast      67\n",
            "northwest      58\n",
            "southeast      91\n",
            "southwest      58\n"
          ]
        }
      ]
    },
    {
      "cell_type": "markdown",
      "source": [
        "Number of records for each no smoking region;"
      ],
      "metadata": {
        "id": "nwyLgXGbVgug"
      }
    },
    {
      "cell_type": "code",
      "source": [
        "result = data.query('smoker == \"no\"').groupby(\"region\").count()\n",
        "\n",
        "print(result.filter(items=['smoker']))"
      ],
      "metadata": {
        "colab": {
          "base_uri": "https://localhost:8080/"
        },
        "id": "9LlxeUVIVh3E",
        "outputId": "89170594-e4c1-4608-855a-85883fae6c47"
      },
      "execution_count": 15,
      "outputs": [
        {
          "output_type": "stream",
          "name": "stdout",
          "text": [
            "           smoker\n",
            "region           \n",
            "northeast     257\n",
            "northwest     267\n",
            "southeast     273\n",
            "southwest     267\n"
          ]
        }
      ]
    },
    {
      "cell_type": "markdown",
      "source": [
        "## Relation Beetween BMI and Sex"
      ],
      "metadata": {
        "id": "_lk_HznJVvUH"
      }
    },
    {
      "cell_type": "code",
      "source": [
        "sns.violinplot(x=\"sex\", y=\"bmi\", data=data, palette=\"pastel\")\n",
        "plt.title(\"BMI by sex\")\n",
        "plt.show()"
      ],
      "metadata": {
        "colab": {
          "base_uri": "https://localhost:8080/",
          "height": 295
        },
        "id": "55pDD2fJVqvq",
        "outputId": "35de739c-be3a-4942-fcd9-314bf22a1186"
      },
      "execution_count": 16,
      "outputs": [
        {
          "output_type": "display_data",
          "data": {
            "text/plain": [
              "<Figure size 432x288 with 1 Axes>"
            ],
            "image/png": "[encoded data removed]"
          },
          "metadata": {
            "needs_background": "light"
          }
        }
      ]
    },
    {
      "cell_type": "markdown",
      "source": [
        "Body mass index by sex is given in the graph. It is seen that the body mass index is concentrated above 30 for both the male and famele categories."
      ],
      "metadata": {
        "id": "cOx9Pe45V02X"
      }
    },
    {
      "cell_type": "markdown",
      "source": [
        "## En çok “children”’a sahip “region”"
      ],
      "metadata": {
        "id": "1XLzwGU8k-n2"
      }
    },
    {
      "cell_type": "code",
      "source": [
        "northwest_c = data[data.region == \"northwest\"].children.count()\n",
        "northeast_c = data[data.region == \"northeast\"].children.count()\n",
        "southwest_c = data[data.region == \"southwest\"].children.count()\n",
        "southheast_c = data[data.region == \"southeast\"].children.count()\n",
        "\n",
        "print(northwest_c, northeast_c, southwest_c, southheast_c)\n",
        "\n",
        "#En çok “children”’a sahip “region”: Southeast"
      ],
      "metadata": {
        "colab": {
          "base_uri": "https://localhost:8080/"
        },
        "id": "lSnn1sbfk9D8",
        "outputId": "91142c7c-1337-41f6-89e4-95ebfb9f2091"
      },
      "execution_count": 17,
      "outputs": [
        {
          "output_type": "stream",
          "name": "stdout",
          "text": [
            "325 324 325 364\n"
          ]
        }
      ]
    },
    {
      "cell_type": "code",
      "source": [
        "sns.catplot(x = 'children', col = 'region', data = data, kind = 'count', aspect = 0.5)\n",
        "plt.title('Children by Region')"
      ],
      "metadata": {
        "colab": {
          "base_uri": "https://localhost:8080/",
          "height": 388
        },
        "id": "w-Zm20-ilSgi",
        "outputId": "c21a3894-1ba1-46ef-e458-e310a2144ce2"
      },
      "execution_count": 18,
      "outputs": [
        {
          "output_type": "execute_result",
          "data": {
            "text/plain": [
              "Text(0.5, 1.0, 'Children by Region')"
            ]
          },
          "metadata": {},
          "execution_count": 18
        },
        {
          "output_type": "display_data",
          "data": {
            "text/plain": [
              "<Figure size 720x360 with 4 Axes>"
            ],
            "image/png": "[encoded data removed]"
          },
          "metadata": {
            "needs_background": "light"
          }
        }
      ]
    },
    {
      "cell_type": "markdown",
      "source": [
        "## “Age” ile “bmi” arasındaki ilişki"
      ],
      "metadata": {
        "id": "95Tsd5KnlsqQ"
      }
    },
    {
      "cell_type": "code",
      "source": [
        "sns.relplot(x = data.age, y = data.bmi, data = data, kind='line') \n",
        "plt.title('Age - BMI')\n",
        "plt.show()"
      ],
      "metadata": {
        "colab": {
          "base_uri": "https://localhost:8080/",
          "height": 385
        },
        "id": "21aHEMAllvEf",
        "outputId": "cf293fba-d64d-4173-8e45-51435585714a"
      },
      "execution_count": 19,
      "outputs": [
        {
          "output_type": "display_data",
          "data": {
            "text/plain": [
              "<Figure size 360x360 with 1 Axes>"
            ],
            "image/png": "[encoded data removed]"
          },
          "metadata": {
            "needs_background": "light"
          }
        }
      ]
    },
    {
      "cell_type": "code",
      "source": [
        "# Yaşlara göre kategoriler:\n",
        "\n",
        "data.loc[(data['age'] >= 18) & (data['age'] < 36), 'age_category'] = 'youth'\n",
        "data.loc[(data['age'] >= 36) & (data['age'] <= 55), 'age_category'] = 'adults'\n",
        "data.loc[data['age'] > 55, 'age_category'] = 'seniors'\n",
        "data['age_category'].value_counts()"
      ],
      "metadata": {
        "colab": {
          "base_uri": "https://localhost:8080/"
        },
        "id": "OFcVQqM2l12o",
        "outputId": "194c4f43-005f-4e1d-c07b-e1929212a6ac"
      },
      "execution_count": 20,
      "outputs": [
        {
          "output_type": "execute_result",
          "data": {
            "text/plain": [
              "youth      574\n",
              "adults     548\n",
              "seniors    216\n",
              "Name: age_category, dtype: int64"
            ]
          },
          "metadata": {},
          "execution_count": 20
        }
      ]
    },
    {
      "cell_type": "code",
      "source": [
        "sns.catplot(x = 'age_category', y = 'bmi', data = data, kind = 'bar', aspect = 0.8)"
      ],
      "metadata": {
        "colab": {
          "base_uri": "https://localhost:8080/",
          "height": 386
        },
        "id": "3NQjgmj2l-aK",
        "outputId": "f7688e15-838e-476c-80e8-9bc617f4d7fa"
      },
      "execution_count": 21,
      "outputs": [
        {
          "output_type": "execute_result",
          "data": {
            "text/plain": [
              "<seaborn.axisgrid.FacetGrid at 0x7f4edbf65610>"
            ]
          },
          "metadata": {},
          "execution_count": 21
        },
        {
          "output_type": "display_data",
          "data": {
            "text/plain": [
              "<Figure size 288x360 with 1 Axes>"
            ],
            "image/png": "[encoded data removed]"
          },
          "metadata": {
            "needs_background": "light"
          }
        }
      ]
    },
    {
      "cell_type": "code",
      "source": [
        "data.loc[data['bmi'] < 18.5, 'weight_condition'] = 'underweight'\n",
        "data.loc[(data['bmi'] >= 18.5) & (data['bmi'] <= 24.9), 'weight_condition'] = 'normal'\n",
        "data.loc[(data['bmi'] > 24.9) & (data['bmi'] <= 29.9), 'weight_condition'] = 'overweight'\n",
        "data.loc[data['bmi'] > 29.9, 'weight_condition'] = 'obese'\n",
        "\n",
        "data['weight_condition'].value_counts()"
      ],
      "metadata": {
        "colab": {
          "base_uri": "https://localhost:8080/"
        },
        "id": "95TQ615zosS0",
        "outputId": "30d7fe36-af9f-4546-97a7-8ddce52889f6"
      },
      "execution_count": 22,
      "outputs": [
        {
          "output_type": "execute_result",
          "data": {
            "text/plain": [
              "obese          716\n",
              "overweight     380\n",
              "normal         222\n",
              "underweight     20\n",
              "Name: weight_condition, dtype: int64"
            ]
          },
          "metadata": {},
          "execution_count": 22
        }
      ]
    },
    {
      "cell_type": "code",
      "source": [
        "#Gençlerin kilo durumu\n",
        "youth_underweight = data[data.age_category == \"youth\"][data.weight_condition == \"underweight\"].weight_condition.count()\n",
        "youth_normal = data[data.age_category == \"youth\"][data.weight_condition == \"normal\"].weight_condition.count()\n",
        "youth_overweight = data[data.age_category == \"youth\"][data.weight_condition == \"overweight\"].weight_condition.count()\n",
        "youth_obese = data[data.age_category == \"youth\"][data.weight_condition == \"obese\"].weight_condition.count()\n",
        "\n",
        "#Yetişkinlerin kilo durumu\n",
        "adults_underweight = data[data.age_category == \"adults\"][data.weight_condition == \"underweight\"].weight_condition.count()\n",
        "adults_normal = data[data.age_category == \"adults\"][data.weight_condition == \"normal\"].weight_condition.count()\n",
        "adults_overweight = data[data.age_category == \"adults\"][data.weight_condition == \"overweight\"].weight_condition.count()\n",
        "adults_obese = data[data.age_category == \"adults\"][data.weight_condition == \"obese\"].weight_condition.count()\n",
        "\n",
        "#Yaşlıların kilo durumu\n",
        "seniors_underweight = data[data.age_category == \"seniors\"][data.weight_condition == \"underweight\"].weight_condition.count()\n",
        "seniors_normal = data[data.age_category == \"seniors\"][data.weight_condition == \"normal\"].weight_condition.count()\n",
        "seniors_overweight = data[data.age_category == \"seniors\"][data.weight_condition == \"overweight\"].weight_condition.count()\n",
        "seniors_obese = data[data.age_category == \"seniors\"][data.weight_condition == \"obese\"].weight_condition.count()\n",
        "\n",
        "\n",
        "#print(youth_underweight, youth_normal, youth_overweight, youth_obese)\n",
        "#print(adults_underweight, adults_normal, adults_overweight, adults_obese)\n",
        "#print(seniors_underweight, seniors_normal, seniors_overweight,seniors_obese)\n",
        "\n",
        "age_weight=pd.DataFrame([[youth_underweight, youth_normal, youth_overweight, youth_obese], \n",
        "                         [adults_underweight, adults_normal, adults_overweight, adults_obese],\n",
        "                         [seniors_underweight, seniors_normal, seniors_overweight, seniors_obese]], columns=['underwight', 'normal', 'overweight', 'obese'], index = ['youth', 'adults', 'seniors'])"
      ],
      "metadata": {
        "id": "b5YmxF20oFwx"
      },
      "execution_count": null,
      "outputs": []
    },
    {
      "cell_type": "code",
      "source": [
        "age_weight"
      ],
      "metadata": {
        "colab": {
          "base_uri": "https://localhost:8080/",
          "height": 143
        },
        "id": "Qkgwg0ejrIcG",
        "outputId": "297af0fc-93cd-4d65-d118-a1b7519f22c9"
      },
      "execution_count": 24,
      "outputs": [
        {
          "output_type": "execute_result",
          "data": {
            "text/plain": [
              "         underwight  normal  overweight  obese\n",
              "youth            13     112         161    288\n",
              "adults            5      85         162    296\n",
              "seniors           2      25          57    132"
            ],
            "text/html": [
              "\n",
              "  <div id=\"df-bdf0767c-4dae-4cd4-a6d2-ef1cb9dc114e\">\n",
              "    <div class=\"colab-df-container\">\n",
              "      <div>\n",
              "<style scoped>\n",
              "    .dataframe tbody tr th:only-of-type {\n",
              "        vertical-align: middle;\n",
              "    }\n",
              "\n",
              "    .dataframe tbody tr th {\n",
              "        vertical-align: top;\n",
              "    }\n",
              "\n",
              "    .dataframe thead th {\n",
              "        text-align: right;\n",
              "    }\n",
              "</style>\n",
              "<table border=\"1\" class=\"dataframe\">\n",
              "  <thead>\n",
              "    <tr style=\"text-align: right;\">\n",
              "      <th></th>\n",
              "      <th>underwight</th>\n",
              "      <th>normal</th>\n",
              "      <th>overweight</th>\n",
              "      <th>obese</th>\n",
              "    </tr>\n",
              "  </thead>\n",
              "  <tbody>\n",
              "    <tr>\n",
              "      <th>youth</th>\n",
              "      <td>13</td>\n",
              "      <td>112</td>\n",
              "      <td>161</td>\n",
              "      <td>288</td>\n",
              "    </tr>\n",
              "    <tr>\n",
              "      <th>adults</th>\n",
              "      <td>5</td>\n",
              "      <td>85</td>\n",
              "      <td>162</td>\n",
              "      <td>296</td>\n",
              "    </tr>\n",
              "    <tr>\n",
              "      <th>seniors</th>\n",
              "      <td>2</td>\n",
              "      <td>25</td>\n",
              "      <td>57</td>\n",
              "      <td>132</td>\n",
              "    </tr>\n",
              "  </tbody>\n",
              "</table>\n",
              "</div>\n",
              "      <button class=\"colab-df-convert\" onclick=\"convertToInteractive('df-bdf0767c-4dae-4cd4-a6d2-ef1cb9dc114e')\"\n",
              "              title=\"Convert this dataframe to an interactive table.\"\n",
              "              style=\"display:none;\">\n",
              "        \n",
              "  <svg xmlns=\"http://www.w3.org/2000/svg\" height=\"24px\"viewBox=\"0 0 24 24\"\n",
              "       width=\"24px\">\n",
              "    <path d=\"M0 0h24v24H0V0z\" fill=\"none\"/>\n",
              "    <path d=\"M18.56 5.44l.94 2.06.94-2.06 2.06-.94-2.06-.94-.94-2.06-.94 2.06-2.06.94zm-11 1L8.5 8.5l.94-2.06 2.06-.94-2.06-.94L8.5 2.5l-.94 2.06-2.06.94zm10 10l.94 2.06.94-2.06 2.06-.94-2.06-.94-.94-2.06-.94 2.06-2.06.94z\"/><path d=\"M17.41 7.96l-1.37-1.37c-.4-.4-.92-.59-1.43-.59-.52 0-1.04.2-1.43.59L10.3 9.45l-7.72 7.72c-.78.78-.78 2.05 0 2.83L4 21.41c.39.39.9.59 1.41.59.51 0 1.02-.2 1.41-.59l7.78-7.78 2.81-2.81c.8-.78.8-2.07 0-2.86zM5.41 20L4 18.59l7.72-7.72 1.47 1.35L5.41 20z\"/>\n",
              "  </svg>\n",
              "      </button>\n",
              "      \n",
              "  <style>\n",
              "    .colab-df-container {\n",
              "      display:flex;\n",
              "      flex-wrap:wrap;\n",
              "      gap: 12px;\n",
              "    }\n",
              "\n",
              "    .colab-df-convert {\n",
              "      background-color: #E8F0FE;\n",
              "      border: none;\n",
              "      border-radius: 50%;\n",
              "      cursor: pointer;\n",
              "      display: none;\n",
              "      fill: #1967D2;\n",
              "      height: 32px;\n",
              "      padding: 0 0 0 0;\n",
              "      width: 32px;\n",
              "    }\n",
              "\n",
              "    .colab-df-convert:hover {\n",
              "      background-color: #E2EBFA;\n",
              "      box-shadow: 0px 1px 2px rgba(60, 64, 67, 0.3), 0px 1px 3px 1px rgba(60, 64, 67, 0.15);\n",
              "      fill: #174EA6;\n",
              "    }\n",
              "\n",
              "    [theme=dark] .colab-df-convert {\n",
              "      background-color: #3B4455;\n",
              "      fill: #D2E3FC;\n",
              "    }\n",
              "\n",
              "    [theme=dark] .colab-df-convert:hover {\n",
              "      background-color: #434B5C;\n",
              "      box-shadow: 0px 1px 3px 1px rgba(0, 0, 0, 0.15);\n",
              "      filter: drop-shadow(0px 1px 2px rgba(0, 0, 0, 0.3));\n",
              "      fill: #FFFFFF;\n",
              "    }\n",
              "  </style>\n",
              "\n",
              "      <script>\n",
              "        const buttonEl =\n",
              "          document.querySelector('#df-bdf0767c-4dae-4cd4-a6d2-ef1cb9dc114e button.colab-df-convert');\n",
              "        buttonEl.style.display =\n",
              "          google.colab.kernel.accessAllowed ? 'block' : 'none';\n",
              "\n",
              "        async function convertToInteractive(key) {\n",
              "          const element = document.querySelector('#df-bdf0767c-4dae-4cd4-a6d2-ef1cb9dc114e');\n",
              "          const dataTable =\n",
              "            await google.colab.kernel.invokeFunction('convertToInteractive',\n",
              "                                                     [key], {});\n",
              "          if (!dataTable) return;\n",
              "\n",
              "          const docLinkHtml = 'Like what you see? Visit the ' +\n",
              "            '<a target=\"_blank\" href=https://colab.research.google.com/notebooks/data_table.ipynb>data table notebook</a>'\n",
              "            + ' to learn more about interactive tables.';\n",
              "          element.innerHTML = '';\n",
              "          dataTable['output_type'] = 'display_data';\n",
              "          await google.colab.output.renderOutput(dataTable, element);\n",
              "          const docLink = document.createElement('div');\n",
              "          docLink.innerHTML = docLinkHtml;\n",
              "          element.appendChild(docLink);\n",
              "        }\n",
              "      </script>\n",
              "    </div>\n",
              "  </div>\n",
              "  "
            ]
          },
          "metadata": {},
          "execution_count": 24
        }
      ]
    },
    {
      "cell_type": "markdown",
      "source": [
        "Kilolu olanların çoğunluğu genç ve yetişkinler yani 55 yaşından küçük olanlar oluşturuyor diyebiliriz. Zayıf ve normal kiloda olanların çoğunu ise 36 yaşından küçükler oluşturmaktadır. Obez yaşlı sayısı diğerlerine göre daha azdır yorumlarını yapabiliriz."
      ],
      "metadata": {
        "id": "3N4txbFxriJ_"
      }
    },
    {
      "cell_type": "markdown",
      "source": [
        "## “bmi” ile “children” arasındaki ilişki"
      ],
      "metadata": {
        "id": "9u4RWEDkrndt"
      }
    },
    {
      "cell_type": "code",
      "source": [
        "data.children.describe()"
      ],
      "metadata": {
        "colab": {
          "base_uri": "https://localhost:8080/"
        },
        "id": "IGrLwrNWrpom",
        "outputId": "a44fca92-4ceb-4943-de64-297f2b58cfb9"
      },
      "execution_count": 25,
      "outputs": [
        {
          "output_type": "execute_result",
          "data": {
            "text/plain": [
              "count    1338.000000\n",
              "mean        1.094918\n",
              "std         1.205493\n",
              "min         0.000000\n",
              "25%         0.000000\n",
              "50%         1.000000\n",
              "75%         2.000000\n",
              "max         5.000000\n",
              "Name: children, dtype: float64"
            ]
          },
          "metadata": {},
          "execution_count": 25
        }
      ]
    },
    {
      "cell_type": "code",
      "source": [
        "sns.relplot(x=\"children\", y=\"bmi\", kind=\"line\", estimator=None, data=data)\n",
        "plt.title('Children - BMI')"
      ],
      "metadata": {
        "colab": {
          "base_uri": "https://localhost:8080/",
          "height": 402
        },
        "id": "xUjiufFJrvOx",
        "outputId": "bb12afdb-d5b8-43b3-85b9-ef907959462e"
      },
      "execution_count": 26,
      "outputs": [
        {
          "output_type": "execute_result",
          "data": {
            "text/plain": [
              "Text(0.5, 1.0, 'Children - BMI')"
            ]
          },
          "metadata": {},
          "execution_count": 26
        },
        {
          "output_type": "display_data",
          "data": {
            "text/plain": [
              "<Figure size 360x360 with 1 Axes>"
            ],
            "image/png": "[encoded data removed]"
          },
          "metadata": {
            "needs_background": "light"
          }
        }
      ]
    },
    {
      "cell_type": "code",
      "source": [
        "correlation = data[['bmi', 'children']].corr()\n",
        "sns.heatmap(correlation, annot = True, fmt = '.2f', cmap = 'Greens')\n",
        "plt.title('Correlation Between BMI and Children')"
      ],
      "metadata": {
        "colab": {
          "base_uri": "https://localhost:8080/",
          "height": 298
        },
        "id": "45h0W5kTrvEV",
        "outputId": "fe0593dd-378c-4d3f-ab81-f8dc5904ff0b"
      },
      "execution_count": 27,
      "outputs": [
        {
          "output_type": "execute_result",
          "data": {
            "text/plain": [
              "Text(0.5, 1.0, 'Correlation Between BMI and Children')"
            ]
          },
          "metadata": {},
          "execution_count": 27
        },
        {
          "output_type": "display_data",
          "data": {
            "text/plain": [
              "<Figure size 432x288 with 2 Axes>"
            ],
            "image/png": "[encoded data removed]"
          },
          "metadata": {
            "needs_background": "light"
          }
        }
      ]
    },
    {
      "cell_type": "markdown",
      "source": [
        "SONUC yazamadım."
      ],
      "metadata": {
        "id": "fB-8o2dTsDqT"
      }
    },
    {
      "cell_type": "markdown",
      "source": [
        "## “bmi” değişkeninde outlier var mıdır? İnceleyiniz."
      ],
      "metadata": {
        "id": "VGYL0tpqsCIp"
      }
    },
    {
      "cell_type": "code",
      "source": [
        "bmi_i=data.bmi\n",
        "outliers=[]\n",
        "def detect_outlier(bmi_i):\n",
        "    \n",
        "    threshold=3\n",
        "    mean_1 = np.mean(bmi_i)\n",
        "    std_1 =np.std(bmi_i)\n",
        "    \n",
        "    \n",
        "    for y in bmi_i:\n",
        "        z_score= (y - mean_1)/std_1 \n",
        "        if np.abs(z_score) > threshold:\n",
        "            outliers.append(y)\n",
        "    return outliers"
      ],
      "metadata": {
        "id": "XmXEbwvIsBiB"
      },
      "execution_count": 28,
      "outputs": []
    },
    {
      "cell_type": "code",
      "source": [
        "outlier_datapoints = detect_outlier(bmi_i)\n",
        "print(outlier_datapoints)"
      ],
      "metadata": {
        "colab": {
          "base_uri": "https://localhost:8080/"
        },
        "id": "1MSddn31s3Kq",
        "outputId": "b73c9b2f-766f-4bdb-870f-7f623f8c23e6"
      },
      "execution_count": 29,
      "outputs": [
        {
          "output_type": "stream",
          "name": "stdout",
          "text": [
            "[49.06, 50.38, 52.58, 53.13]\n"
          ]
        }
      ]
    },
    {
      "cell_type": "code",
      "source": [
        "print(np.where(data['bmi']>49))"
      ],
      "metadata": {
        "colab": {
          "base_uri": "https://localhost:8080/"
        },
        "id": "7tg0CuW2s6bS",
        "outputId": "c54fc5c0-3a7b-4912-865a-4e0dfaf54998"
      },
      "execution_count": 30,
      "outputs": [
        {
          "output_type": "stream",
          "name": "stdout",
          "text": [
            "(array([ 116,  847, 1047, 1317]),)\n"
          ]
        }
      ]
    },
    {
      "cell_type": "code",
      "source": [
        "sns.boxplot(data['bmi'])"
      ],
      "metadata": {
        "colab": {
          "base_uri": "https://localhost:8080/",
          "height": 351
        },
        "id": "DTcia8z1s9jp",
        "outputId": "a786986b-176e-493a-ec18-13586b84b185"
      },
      "execution_count": 31,
      "outputs": [
        {
          "output_type": "stream",
          "name": "stderr",
          "text": [
            "/usr/local/lib/python3.7/dist-packages/seaborn/_decorators.py:43: FutureWarning: Pass the following variable as a keyword arg: x. From version 0.12, the only valid positional argument will be `data`, and passing other arguments without an explicit keyword will result in an error or misinterpretation.\n",
            "  FutureWarning\n"
          ]
        },
        {
          "output_type": "execute_result",
          "data": {
            "text/plain": [
              "<matplotlib.axes._subplots.AxesSubplot at 0x7f4ece3713d0>"
            ]
          },
          "metadata": {},
          "execution_count": 31
        },
        {
          "output_type": "display_data",
          "data": {
            "text/plain": [
              "<Figure size 432x288 with 1 Axes>"
            ],
            "image/png": "[encoded data removed]"
          },
          "metadata": {
            "needs_background": "light"
          }
        }
      ]
    },
    {
      "cell_type": "markdown",
      "source": [
        "\"BMI\" değişkeni incelendiğinde yukarıdaki grafiğe gör;, 49'un üzerindeki değerlerin aykırı değerler olarak hareket ettiğini açıkça görebiliriz. 49 üzeri outlier (aykırı değerleri) var. Aykırı Değer Endeksi: 116, 847, 1047 ve 1317 indexteki outlier'dir."
      ],
      "metadata": {
        "id": "-Rh-tbajtCvN"
      }
    },
    {
      "cell_type": "code",
      "source": [
        "data.drop(['age_category', \"weight_condition\"], axis =1, inplace = True)"
      ],
      "metadata": {
        "id": "Zd-E1oHra5lB"
      },
      "execution_count": 32,
      "outputs": []
    },
    {
      "cell_type": "markdown",
      "source": [
        "## Relation Between BMI and Charges"
      ],
      "metadata": {
        "id": "HKyfSy5tdowZ"
      }
    },
    {
      "cell_type": "code",
      "source": [
        "mean_charges_by_bmi = data.groupby(pd.cut(data['bmi'],\n",
        "             bins = [15, 18, 25, 30, 35, 55]))['charges'].mean()\n",
        "print(mean_charges_by_bmi)"
      ],
      "metadata": {
        "colab": {
          "base_uri": "https://localhost:8080/"
        },
        "id": "uKxYciMjdhPb",
        "outputId": "31dfdb34-b024-4ef3-fa0a-aa64b0a614f5"
      },
      "execution_count": 33,
      "outputs": [
        {
          "output_type": "stream",
          "name": "stdout",
          "text": [
            "bmi\n",
            "(15, 18]     7576.420217\n",
            "(18, 25]    10459.367815\n",
            "(25, 30]    10997.803881\n",
            "(30, 35]    14429.421062\n",
            "(35, 55]    16953.823618\n",
            "Name: charges, dtype: float64\n"
          ]
        }
      ]
    },
    {
      "cell_type": "code",
      "source": [
        "plt.figure(figsize=(6.8, 6.8))\n",
        "plt.bar(labels, mean_charges_by_bmi.values)\n",
        "plt.xlabel(\"BMI\")\n",
        "plt.ylabel(\"Medical Cost\")\n",
        "plt.title(\"Medical Cost by BMI\")"
      ],
      "metadata": {
        "colab": {
          "base_uri": "https://localhost:8080/",
          "height": 465
        },
        "id": "XgXNtvBcdmOd",
        "outputId": "2c7d7d79-6363-41fe-9b4a-64c3c9935529"
      },
      "execution_count": 34,
      "outputs": [
        {
          "output_type": "execute_result",
          "data": {
            "text/plain": [
              "Text(0.5, 1.0, 'Medical Cost by BMI')"
            ]
          },
          "metadata": {},
          "execution_count": 34
        },
        {
          "output_type": "display_data",
          "data": {
            "text/plain": [
              "<Figure size 489.6x489.6 with 1 Axes>"
            ],
            "image/png": "[encoded data removed]"
          },
          "metadata": {
            "needs_background": "light"
          }
        }
      ]
    },
    {
      "cell_type": "markdown",
      "source": [
        "The chart shows us the there is a positive correlation between BMI and average medical cost."
      ],
      "metadata": {
        "id": "OG6NTFK7sgvq"
      }
    },
    {
      "cell_type": "markdown",
      "source": [
        "## Relation Between Region, Smoker and BMI"
      ],
      "metadata": {
        "id": "E2zi8bIU5noY"
      }
    },
    {
      "cell_type": "code",
      "source": [
        "region_smoker_count = data.loc[data.smoker == 'yes']\n",
        "region_smoker_count = region_smoker_count.groupby(region_smoker_count['region'])['bmi'].mean()\n",
        "\n",
        "region_non_smoker_count = data.loc[data.smoker == 'no']\n",
        "region_non_smoker_count = region_non_smoker_count.groupby(region_non_smoker_count['region'])['bmi'].mean()"
      ],
      "metadata": {
        "id": "Yo4pp-OXucjY"
      },
      "execution_count": 35,
      "outputs": []
    },
    {
      "cell_type": "code",
      "source": [
        "x_axis = np.arange(len(region_smoker_count.index))\n",
        "\n",
        "\n",
        "plt.bar(x_axis -0.2, region_non_smoker_count.values, width=0.4, label = 'non-smoker')\n",
        "plt.bar(x_axis +0.2, region_smoker_count.values, width=0.4, label = 'smoker')\n",
        "\n",
        "plt.xticks(x_axis, region_smoker_count.index)\n",
        "\n",
        "plt.xlabel(\"Regions\")\n",
        "plt.ylabel(\"Average BMI\")\n",
        "\n",
        "plt.legend()\n",
        "\n",
        "plt.show()"
      ],
      "metadata": {
        "colab": {
          "base_uri": "https://localhost:8080/",
          "height": 283
        },
        "id": "BGUrIQ6AwBVH",
        "outputId": "158feb28-63f3-4096-87aa-ba953117fad3"
      },
      "execution_count": 36,
      "outputs": [
        {
          "output_type": "display_data",
          "data": {
            "text/plain": [
              "<Figure size 432x288 with 1 Axes>"
            ],
            "image/png": "[encoded data removed]"
          },
          "metadata": {
            "needs_background": "light"
          }
        }
      ]
    },
    {
      "cell_type": "markdown",
      "source": [
        "The graph shows us region has no correlation with BMI and smoking habit. But people in southeast have more BMI exceptionally."
      ],
      "metadata": {
        "id": "Pfa4PEZX51l0"
      }
    },
    {
      "cell_type": "markdown",
      "source": [
        "# Data Preprocessing"
      ],
      "metadata": {
        "id": "N0RsOGEe7mBm"
      }
    },
    {
      "cell_type": "code",
      "source": [
        "encoder = LabelEncoder()"
      ],
      "metadata": {
        "id": "yWKFi2Bi9-mB"
      },
      "execution_count": 37,
      "outputs": []
    },
    {
      "cell_type": "code",
      "source": [
        "X = data"
      ],
      "metadata": {
        "id": "60Kyd93--sSR"
      },
      "execution_count": 38,
      "outputs": []
    },
    {
      "cell_type": "code",
      "source": [
        "X.drop(X[X.bmi > 49].index, axis=0, inplace = True)\n",
        "X.reset_index(inplace = True)"
      ],
      "metadata": {
        "id": "WpjiShN5X5y3"
      },
      "execution_count": 39,
      "outputs": []
    },
    {
      "cell_type": "code",
      "source": [
        "X['sex'] = encoder.fit_transform(X['sex'])\n",
        "X['smoker'] = encoder.fit_transform(X['smoker'])\n",
        "X['region'] = encoder.fit_transform(X['region'])"
      ],
      "metadata": {
        "id": "pCU3zZt3-YhB"
      },
      "execution_count": 40,
      "outputs": []
    },
    {
      "cell_type": "code",
      "source": [
        "corr = X.corr()"
      ],
      "metadata": {
        "id": "j_7w6UBS-1g2"
      },
      "execution_count": 41,
      "outputs": []
    },
    {
      "cell_type": "code",
      "source": [
        "corr"
      ],
      "metadata": {
        "colab": {
          "base_uri": "https://localhost:8080/",
          "height": 300
        },
        "id": "Ak6pXAw--4LG",
        "outputId": "7656add9-d2aa-4056-d5f6-35aa207ae1b0"
      },
      "execution_count": 42,
      "outputs": [
        {
          "output_type": "execute_result",
          "data": {
            "text/plain": [
              "             index       age       sex       bmi  children    smoker  \\\n",
              "index     1.000000 -0.026974  0.002459 -0.042159  0.025550  0.004059   \n",
              "age      -0.026974  1.000000 -0.019041  0.118887  0.042345 -0.023820   \n",
              "sex       0.002459 -0.019041  1.000000  0.037031  0.018667  0.076096   \n",
              "bmi      -0.042159  0.118887  0.037031  1.000000  0.018054  0.002264   \n",
              "children  0.025550  0.042345  0.018667  0.018054  1.000000  0.007087   \n",
              "smoker    0.004059 -0.023820  0.076096  0.002264  0.007087  1.000000   \n",
              "region   -0.001894  0.002974  0.003293  0.155877  0.017234 -0.002333   \n",
              "charges  -0.003886  0.301360  0.057165  0.200799  0.067569  0.786536   \n",
              "\n",
              "            region   charges  \n",
              "index    -0.001894 -0.003886  \n",
              "age       0.002974  0.301360  \n",
              "sex       0.003293  0.057165  \n",
              "bmi       0.155877  0.200799  \n",
              "children  0.017234  0.067569  \n",
              "smoker   -0.002333  0.786536  \n",
              "region    1.000000 -0.006404  \n",
              "charges  -0.006404  1.000000  "
            ],
            "text/html": [
              "\n",
              "  <div id=\"df-28271652-2003-43bb-acb0-befad6df6a35\">\n",
              "    <div class=\"colab-df-container\">\n",
              "      <div>\n",
              "<style scoped>\n",
              "    .dataframe tbody tr th:only-of-type {\n",
              "        vertical-align: middle;\n",
              "    }\n",
              "\n",
              "    .dataframe tbody tr th {\n",
              "        vertical-align: top;\n",
              "    }\n",
              "\n",
              "    .dataframe thead th {\n",
              "        text-align: right;\n",
              "    }\n",
              "</style>\n",
              "<table border=\"1\" class=\"dataframe\">\n",
              "  <thead>\n",
              "    <tr style=\"text-align: right;\">\n",
              "      <th></th>\n",
              "      <th>index</th>\n",
              "      <th>age</th>\n",
              "      <th>sex</th>\n",
              "      <th>bmi</th>\n",
              "      <th>children</th>\n",
              "      <th>smoker</th>\n",
              "      <th>region</th>\n",
              "      <th>charges</th>\n",
              "    </tr>\n",
              "  </thead>\n",
              "  <tbody>\n",
              "    <tr>\n",
              "      <th>index</th>\n",
              "      <td>1.000000</td>\n",
              "      <td>-0.026974</td>\n",
              "      <td>0.002459</td>\n",
              "      <td>-0.042159</td>\n",
              "      <td>0.025550</td>\n",
              "      <td>0.004059</td>\n",
              "      <td>-0.001894</td>\n",
              "      <td>-0.003886</td>\n",
              "    </tr>\n",
              "    <tr>\n",
              "      <th>age</th>\n",
              "      <td>-0.026974</td>\n",
              "      <td>1.000000</td>\n",
              "      <td>-0.019041</td>\n",
              "      <td>0.118887</td>\n",
              "      <td>0.042345</td>\n",
              "      <td>-0.023820</td>\n",
              "      <td>0.002974</td>\n",
              "      <td>0.301360</td>\n",
              "    </tr>\n",
              "    <tr>\n",
              "      <th>sex</th>\n",
              "      <td>0.002459</td>\n",
              "      <td>-0.019041</td>\n",
              "      <td>1.000000</td>\n",
              "      <td>0.037031</td>\n",
              "      <td>0.018667</td>\n",
              "      <td>0.076096</td>\n",
              "      <td>0.003293</td>\n",
              "      <td>0.057165</td>\n",
              "    </tr>\n",
              "    <tr>\n",
              "      <th>bmi</th>\n",
              "      <td>-0.042159</td>\n",
              "      <td>0.118887</td>\n",
              "      <td>0.037031</td>\n",
              "      <td>1.000000</td>\n",
              "      <td>0.018054</td>\n",
              "      <td>0.002264</td>\n",
              "      <td>0.155877</td>\n",
              "      <td>0.200799</td>\n",
              "    </tr>\n",
              "    <tr>\n",
              "      <th>children</th>\n",
              "      <td>0.025550</td>\n",
              "      <td>0.042345</td>\n",
              "      <td>0.018667</td>\n",
              "      <td>0.018054</td>\n",
              "      <td>1.000000</td>\n",
              "      <td>0.007087</td>\n",
              "      <td>0.017234</td>\n",
              "      <td>0.067569</td>\n",
              "    </tr>\n",
              "    <tr>\n",
              "      <th>smoker</th>\n",
              "      <td>0.004059</td>\n",
              "      <td>-0.023820</td>\n",
              "      <td>0.076096</td>\n",
              "      <td>0.002264</td>\n",
              "      <td>0.007087</td>\n",
              "      <td>1.000000</td>\n",
              "      <td>-0.002333</td>\n",
              "      <td>0.786536</td>\n",
              "    </tr>\n",
              "    <tr>\n",
              "      <th>region</th>\n",
              "      <td>-0.001894</td>\n",
              "      <td>0.002974</td>\n",
              "      <td>0.003293</td>\n",
              "      <td>0.155877</td>\n",
              "      <td>0.017234</td>\n",
              "      <td>-0.002333</td>\n",
              "      <td>1.000000</td>\n",
              "      <td>-0.006404</td>\n",
              "    </tr>\n",
              "    <tr>\n",
              "      <th>charges</th>\n",
              "      <td>-0.003886</td>\n",
              "      <td>0.301360</td>\n",
              "      <td>0.057165</td>\n",
              "      <td>0.200799</td>\n",
              "      <td>0.067569</td>\n",
              "      <td>0.786536</td>\n",
              "      <td>-0.006404</td>\n",
              "      <td>1.000000</td>\n",
              "    </tr>\n",
              "  </tbody>\n",
              "</table>\n",
              "</div>\n",
              "      <button class=\"colab-df-convert\" onclick=\"convertToInteractive('df-28271652-2003-43bb-acb0-befad6df6a35')\"\n",
              "              title=\"Convert this dataframe to an interactive table.\"\n",
              "              style=\"display:none;\">\n",
              "        \n",
              "  <svg xmlns=\"http://www.w3.org/2000/svg\" height=\"24px\"viewBox=\"0 0 24 24\"\n",
              "       width=\"24px\">\n",
              "    <path d=\"M0 0h24v24H0V0z\" fill=\"none\"/>\n",
              "    <path d=\"M18.56 5.44l.94 2.06.94-2.06 2.06-.94-2.06-.94-.94-2.06-.94 2.06-2.06.94zm-11 1L8.5 8.5l.94-2.06 2.06-.94-2.06-.94L8.5 2.5l-.94 2.06-2.06.94zm10 10l.94 2.06.94-2.06 2.06-.94-2.06-.94-.94-2.06-.94 2.06-2.06.94z\"/><path d=\"M17.41 7.96l-1.37-1.37c-.4-.4-.92-.59-1.43-.59-.52 0-1.04.2-1.43.59L10.3 9.45l-7.72 7.72c-.78.78-.78 2.05 0 2.83L4 21.41c.39.39.9.59 1.41.59.51 0 1.02-.2 1.41-.59l7.78-7.78 2.81-2.81c.8-.78.8-2.07 0-2.86zM5.41 20L4 18.59l7.72-7.72 1.47 1.35L5.41 20z\"/>\n",
              "  </svg>\n",
              "      </button>\n",
              "      \n",
              "  <style>\n",
              "    .colab-df-container {\n",
              "      display:flex;\n",
              "      flex-wrap:wrap;\n",
              "      gap: 12px;\n",
              "    }\n",
              "\n",
              "    .colab-df-convert {\n",
              "      background-color: #E8F0FE;\n",
              "      border: none;\n",
              "      border-radius: 50%;\n",
              "      cursor: pointer;\n",
              "      display: none;\n",
              "      fill: #1967D2;\n",
              "      height: 32px;\n",
              "      padding: 0 0 0 0;\n",
              "      width: 32px;\n",
              "    }\n",
              "\n",
              "    .colab-df-convert:hover {\n",
              "      background-color: #E2EBFA;\n",
              "      box-shadow: 0px 1px 2px rgba(60, 64, 67, 0.3), 0px 1px 3px 1px rgba(60, 64, 67, 0.15);\n",
              "      fill: #174EA6;\n",
              "    }\n",
              "\n",
              "    [theme=dark] .colab-df-convert {\n",
              "      background-color: #3B4455;\n",
              "      fill: #D2E3FC;\n",
              "    }\n",
              "\n",
              "    [theme=dark] .colab-df-convert:hover {\n",
              "      background-color: #434B5C;\n",
              "      box-shadow: 0px 1px 3px 1px rgba(0, 0, 0, 0.15);\n",
              "      filter: drop-shadow(0px 1px 2px rgba(0, 0, 0, 0.3));\n",
              "      fill: #FFFFFF;\n",
              "    }\n",
              "  </style>\n",
              "\n",
              "      <script>\n",
              "        const buttonEl =\n",
              "          document.querySelector('#df-28271652-2003-43bb-acb0-befad6df6a35 button.colab-df-convert');\n",
              "        buttonEl.style.display =\n",
              "          google.colab.kernel.accessAllowed ? 'block' : 'none';\n",
              "\n",
              "        async function convertToInteractive(key) {\n",
              "          const element = document.querySelector('#df-28271652-2003-43bb-acb0-befad6df6a35');\n",
              "          const dataTable =\n",
              "            await google.colab.kernel.invokeFunction('convertToInteractive',\n",
              "                                                     [key], {});\n",
              "          if (!dataTable) return;\n",
              "\n",
              "          const docLinkHtml = 'Like what you see? Visit the ' +\n",
              "            '<a target=\"_blank\" href=https://colab.research.google.com/notebooks/data_table.ipynb>data table notebook</a>'\n",
              "            + ' to learn more about interactive tables.';\n",
              "          element.innerHTML = '';\n",
              "          dataTable['output_type'] = 'display_data';\n",
              "          await google.colab.output.renderOutput(dataTable, element);\n",
              "          const docLink = document.createElement('div');\n",
              "          docLink.innerHTML = docLinkHtml;\n",
              "          element.appendChild(docLink);\n",
              "        }\n",
              "      </script>\n",
              "    </div>\n",
              "  </div>\n",
              "  "
            ]
          },
          "metadata": {},
          "execution_count": 42
        }
      ]
    },
    {
      "cell_type": "code",
      "source": [
        "X.describe().T"
      ],
      "metadata": {
        "colab": {
          "base_uri": "https://localhost:8080/",
          "height": 300
        },
        "id": "xyfbfK6TA1V1",
        "outputId": "beb71d1c-53d4-43a4-acc5-f0db4082c094"
      },
      "execution_count": 43,
      "outputs": [
        {
          "output_type": "execute_result",
          "data": {
            "text/plain": [
              "           count          mean           std        min          25%  \\\n",
              "index     1334.0    668.010495    386.096360     0.0000   334.250000   \n",
              "age       1334.0     39.233883     14.034654    18.0000    27.000000   \n",
              "sex       1334.0      0.503748      0.500173     0.0000     0.000000   \n",
              "bmi       1334.0     30.601555      6.000927    15.9600    26.237500   \n",
              "children  1334.0      1.096702      1.206548     0.0000     0.000000   \n",
              "smoker    1334.0      0.204648      0.403595     0.0000     0.000000   \n",
              "region    1334.0      1.514243      1.106222     0.0000     1.000000   \n",
              "charges   1334.0  13265.622751  12089.666548  1121.8739  4746.521225   \n",
              "\n",
              "                50%           75%          max  \n",
              "index      667.5000   1001.750000   1337.00000  \n",
              "age         39.0000     51.000000     64.00000  \n",
              "sex          1.0000      1.000000      1.00000  \n",
              "bmi         30.3325     34.595000     48.07000  \n",
              "children     1.0000      2.000000      5.00000  \n",
              "smoker       0.0000      0.000000      1.00000  \n",
              "region       2.0000      2.000000      3.00000  \n",
              "charges   9382.0330  16639.912515  63770.42801  "
            ],
            "text/html": [
              "\n",
              "  <div id=\"df-ee28afe3-c130-4754-8157-875921b358b8\">\n",
              "    <div class=\"colab-df-container\">\n",
              "      <div>\n",
              "<style scoped>\n",
              "    .dataframe tbody tr th:only-of-type {\n",
              "        vertical-align: middle;\n",
              "    }\n",
              "\n",
              "    .dataframe tbody tr th {\n",
              "        vertical-align: top;\n",
              "    }\n",
              "\n",
              "    .dataframe thead th {\n",
              "        text-align: right;\n",
              "    }\n",
              "</style>\n",
              "<table border=\"1\" class=\"dataframe\">\n",
              "  <thead>\n",
              "    <tr style=\"text-align: right;\">\n",
              "      <th></th>\n",
              "      <th>count</th>\n",
              "      <th>mean</th>\n",
              "      <th>std</th>\n",
              "      <th>min</th>\n",
              "      <th>25%</th>\n",
              "      <th>50%</th>\n",
              "      <th>75%</th>\n",
              "      <th>max</th>\n",
              "    </tr>\n",
              "  </thead>\n",
              "  <tbody>\n",
              "    <tr>\n",
              "      <th>index</th>\n",
              "      <td>1334.0</td>\n",
              "      <td>668.010495</td>\n",
              "      <td>386.096360</td>\n",
              "      <td>0.0000</td>\n",
              "      <td>334.250000</td>\n",
              "      <td>667.5000</td>\n",
              "      <td>1001.750000</td>\n",
              "      <td>1337.00000</td>\n",
              "    </tr>\n",
              "    <tr>\n",
              "      <th>age</th>\n",
              "      <td>1334.0</td>\n",
              "      <td>39.233883</td>\n",
              "      <td>14.034654</td>\n",
              "      <td>18.0000</td>\n",
              "      <td>27.000000</td>\n",
              "      <td>39.0000</td>\n",
              "      <td>51.000000</td>\n",
              "      <td>64.00000</td>\n",
              "    </tr>\n",
              "    <tr>\n",
              "      <th>sex</th>\n",
              "      <td>1334.0</td>\n",
              "      <td>0.503748</td>\n",
              "      <td>0.500173</td>\n",
              "      <td>0.0000</td>\n",
              "      <td>0.000000</td>\n",
              "      <td>1.0000</td>\n",
              "      <td>1.000000</td>\n",
              "      <td>1.00000</td>\n",
              "    </tr>\n",
              "    <tr>\n",
              "      <th>bmi</th>\n",
              "      <td>1334.0</td>\n",
              "      <td>30.601555</td>\n",
              "      <td>6.000927</td>\n",
              "      <td>15.9600</td>\n",
              "      <td>26.237500</td>\n",
              "      <td>30.3325</td>\n",
              "      <td>34.595000</td>\n",
              "      <td>48.07000</td>\n",
              "    </tr>\n",
              "    <tr>\n",
              "      <th>children</th>\n",
              "      <td>1334.0</td>\n",
              "      <td>1.096702</td>\n",
              "      <td>1.206548</td>\n",
              "      <td>0.0000</td>\n",
              "      <td>0.000000</td>\n",
              "      <td>1.0000</td>\n",
              "      <td>2.000000</td>\n",
              "      <td>5.00000</td>\n",
              "    </tr>\n",
              "    <tr>\n",
              "      <th>smoker</th>\n",
              "      <td>1334.0</td>\n",
              "      <td>0.204648</td>\n",
              "      <td>0.403595</td>\n",
              "      <td>0.0000</td>\n",
              "      <td>0.000000</td>\n",
              "      <td>0.0000</td>\n",
              "      <td>0.000000</td>\n",
              "      <td>1.00000</td>\n",
              "    </tr>\n",
              "    <tr>\n",
              "      <th>region</th>\n",
              "      <td>1334.0</td>\n",
              "      <td>1.514243</td>\n",
              "      <td>1.106222</td>\n",
              "      <td>0.0000</td>\n",
              "      <td>1.000000</td>\n",
              "      <td>2.0000</td>\n",
              "      <td>2.000000</td>\n",
              "      <td>3.00000</td>\n",
              "    </tr>\n",
              "    <tr>\n",
              "      <th>charges</th>\n",
              "      <td>1334.0</td>\n",
              "      <td>13265.622751</td>\n",
              "      <td>12089.666548</td>\n",
              "      <td>1121.8739</td>\n",
              "      <td>4746.521225</td>\n",
              "      <td>9382.0330</td>\n",
              "      <td>16639.912515</td>\n",
              "      <td>63770.42801</td>\n",
              "    </tr>\n",
              "  </tbody>\n",
              "</table>\n",
              "</div>\n",
              "      <button class=\"colab-df-convert\" onclick=\"convertToInteractive('df-ee28afe3-c130-4754-8157-875921b358b8')\"\n",
              "              title=\"Convert this dataframe to an interactive table.\"\n",
              "              style=\"display:none;\">\n",
              "        \n",
              "  <svg xmlns=\"http://www.w3.org/2000/svg\" height=\"24px\"viewBox=\"0 0 24 24\"\n",
              "       width=\"24px\">\n",
              "    <path d=\"M0 0h24v24H0V0z\" fill=\"none\"/>\n",
              "    <path d=\"M18.56 5.44l.94 2.06.94-2.06 2.06-.94-2.06-.94-.94-2.06-.94 2.06-2.06.94zm-11 1L8.5 8.5l.94-2.06 2.06-.94-2.06-.94L8.5 2.5l-.94 2.06-2.06.94zm10 10l.94 2.06.94-2.06 2.06-.94-2.06-.94-.94-2.06-.94 2.06-2.06.94z\"/><path d=\"M17.41 7.96l-1.37-1.37c-.4-.4-.92-.59-1.43-.59-.52 0-1.04.2-1.43.59L10.3 9.45l-7.72 7.72c-.78.78-.78 2.05 0 2.83L4 21.41c.39.39.9.59 1.41.59.51 0 1.02-.2 1.41-.59l7.78-7.78 2.81-2.81c.8-.78.8-2.07 0-2.86zM5.41 20L4 18.59l7.72-7.72 1.47 1.35L5.41 20z\"/>\n",
              "  </svg>\n",
              "      </button>\n",
              "      \n",
              "  <style>\n",
              "    .colab-df-container {\n",
              "      display:flex;\n",
              "      flex-wrap:wrap;\n",
              "      gap: 12px;\n",
              "    }\n",
              "\n",
              "    .colab-df-convert {\n",
              "      background-color: #E8F0FE;\n",
              "      border: none;\n",
              "      border-radius: 50%;\n",
              "      cursor: pointer;\n",
              "      display: none;\n",
              "      fill: #1967D2;\n",
              "      height: 32px;\n",
              "      padding: 0 0 0 0;\n",
              "      width: 32px;\n",
              "    }\n",
              "\n",
              "    .colab-df-convert:hover {\n",
              "      background-color: #E2EBFA;\n",
              "      box-shadow: 0px 1px 2px rgba(60, 64, 67, 0.3), 0px 1px 3px 1px rgba(60, 64, 67, 0.15);\n",
              "      fill: #174EA6;\n",
              "    }\n",
              "\n",
              "    [theme=dark] .colab-df-convert {\n",
              "      background-color: #3B4455;\n",
              "      fill: #D2E3FC;\n",
              "    }\n",
              "\n",
              "    [theme=dark] .colab-df-convert:hover {\n",
              "      background-color: #434B5C;\n",
              "      box-shadow: 0px 1px 3px 1px rgba(0, 0, 0, 0.15);\n",
              "      filter: drop-shadow(0px 1px 2px rgba(0, 0, 0, 0.3));\n",
              "      fill: #FFFFFF;\n",
              "    }\n",
              "  </style>\n",
              "\n",
              "      <script>\n",
              "        const buttonEl =\n",
              "          document.querySelector('#df-ee28afe3-c130-4754-8157-875921b358b8 button.colab-df-convert');\n",
              "        buttonEl.style.display =\n",
              "          google.colab.kernel.accessAllowed ? 'block' : 'none';\n",
              "\n",
              "        async function convertToInteractive(key) {\n",
              "          const element = document.querySelector('#df-ee28afe3-c130-4754-8157-875921b358b8');\n",
              "          const dataTable =\n",
              "            await google.colab.kernel.invokeFunction('convertToInteractive',\n",
              "                                                     [key], {});\n",
              "          if (!dataTable) return;\n",
              "\n",
              "          const docLinkHtml = 'Like what you see? Visit the ' +\n",
              "            '<a target=\"_blank\" href=https://colab.research.google.com/notebooks/data_table.ipynb>data table notebook</a>'\n",
              "            + ' to learn more about interactive tables.';\n",
              "          element.innerHTML = '';\n",
              "          dataTable['output_type'] = 'display_data';\n",
              "          await google.colab.output.renderOutput(dataTable, element);\n",
              "          const docLink = document.createElement('div');\n",
              "          docLink.innerHTML = docLinkHtml;\n",
              "          element.appendChild(docLink);\n",
              "        }\n",
              "      </script>\n",
              "    </div>\n",
              "  </div>\n",
              "  "
            ]
          },
          "metadata": {},
          "execution_count": 43
        }
      ]
    },
    {
      "cell_type": "code",
      "source": [
        "X = X.drop_duplicates()"
      ],
      "metadata": {
        "id": "4JbbFMt0BlDB"
      },
      "execution_count": 44,
      "outputs": []
    },
    {
      "cell_type": "code",
      "source": [
        "y = X.loc[:, 'charges']\n",
        "X = X.drop(['charges'], axis=1)"
      ],
      "metadata": {
        "id": "wHIsLVXh-qfd"
      },
      "execution_count": 45,
      "outputs": []
    },
    {
      "cell_type": "code",
      "source": [
        "X"
      ],
      "metadata": {
        "colab": {
          "base_uri": "https://localhost:8080/",
          "height": 424
        },
        "id": "K6c18N178LPQ",
        "outputId": "c35af89f-9923-4922-b0f1-9bad3e520c7e"
      },
      "execution_count": 46,
      "outputs": [
        {
          "output_type": "execute_result",
          "data": {
            "text/plain": [
              "      index  age  sex     bmi  children  smoker  region\n",
              "0         0   19    0  27.900         0       1       3\n",
              "1         1   18    1  33.770         1       0       2\n",
              "2         2   28    1  33.000         3       0       2\n",
              "3         3   33    1  22.705         0       0       1\n",
              "4         4   32    1  28.880         0       0       1\n",
              "...     ...  ...  ...     ...       ...     ...     ...\n",
              "1329   1333   50    1  30.970         3       0       1\n",
              "1330   1334   18    0  31.920         0       0       0\n",
              "1331   1335   18    0  36.850         0       0       2\n",
              "1332   1336   21    0  25.800         0       0       3\n",
              "1333   1337   61    0  29.070         0       1       1\n",
              "\n",
              "[1334 rows x 7 columns]"
            ],
            "text/html": [
              "\n",
              "  <div id=\"df-a9cd1c3d-1b72-4026-a07e-c56233b96a11\">\n",
              "    <div class=\"colab-df-container\">\n",
              "      <div>\n",
              "<style scoped>\n",
              "    .dataframe tbody tr th:only-of-type {\n",
              "        vertical-align: middle;\n",
              "    }\n",
              "\n",
              "    .dataframe tbody tr th {\n",
              "        vertical-align: top;\n",
              "    }\n",
              "\n",
              "    .dataframe thead th {\n",
              "        text-align: right;\n",
              "    }\n",
              "</style>\n",
              "<table border=\"1\" class=\"dataframe\">\n",
              "  <thead>\n",
              "    <tr style=\"text-align: right;\">\n",
              "      <th></th>\n",
              "      <th>index</th>\n",
              "      <th>age</th>\n",
              "      <th>sex</th>\n",
              "      <th>bmi</th>\n",
              "      <th>children</th>\n",
              "      <th>smoker</th>\n",
              "      <th>region</th>\n",
              "    </tr>\n",
              "  </thead>\n",
              "  <tbody>\n",
              "    <tr>\n",
              "      <th>0</th>\n",
              "      <td>0</td>\n",
              "      <td>19</td>\n",
              "      <td>0</td>\n",
              "      <td>27.900</td>\n",
              "      <td>0</td>\n",
              "      <td>1</td>\n",
              "      <td>3</td>\n",
              "    </tr>\n",
              "    <tr>\n",
              "      <th>1</th>\n",
              "      <td>1</td>\n",
              "      <td>18</td>\n",
              "      <td>1</td>\n",
              "      <td>33.770</td>\n",
              "      <td>1</td>\n",
              "      <td>0</td>\n",
              "      <td>2</td>\n",
              "    </tr>\n",
              "    <tr>\n",
              "      <th>2</th>\n",
              "      <td>2</td>\n",
              "      <td>28</td>\n",
              "      <td>1</td>\n",
              "      <td>33.000</td>\n",
              "      <td>3</td>\n",
              "      <td>0</td>\n",
              "      <td>2</td>\n",
              "    </tr>\n",
              "    <tr>\n",
              "      <th>3</th>\n",
              "      <td>3</td>\n",
              "      <td>33</td>\n",
              "      <td>1</td>\n",
              "      <td>22.705</td>\n",
              "      <td>0</td>\n",
              "      <td>0</td>\n",
              "      <td>1</td>\n",
              "    </tr>\n",
              "    <tr>\n",
              "      <th>4</th>\n",
              "      <td>4</td>\n",
              "      <td>32</td>\n",
              "      <td>1</td>\n",
              "      <td>28.880</td>\n",
              "      <td>0</td>\n",
              "      <td>0</td>\n",
              "      <td>1</td>\n",
              "    </tr>\n",
              "    <tr>\n",
              "      <th>...</th>\n",
              "      <td>...</td>\n",
              "      <td>...</td>\n",
              "      <td>...</td>\n",
              "      <td>...</td>\n",
              "      <td>...</td>\n",
              "      <td>...</td>\n",
              "      <td>...</td>\n",
              "    </tr>\n",
              "    <tr>\n",
              "      <th>1329</th>\n",
              "      <td>1333</td>\n",
              "      <td>50</td>\n",
              "      <td>1</td>\n",
              "      <td>30.970</td>\n",
              "      <td>3</td>\n",
              "      <td>0</td>\n",
              "      <td>1</td>\n",
              "    </tr>\n",
              "    <tr>\n",
              "      <th>1330</th>\n",
              "      <td>1334</td>\n",
              "      <td>18</td>\n",
              "      <td>0</td>\n",
              "      <td>31.920</td>\n",
              "      <td>0</td>\n",
              "      <td>0</td>\n",
              "      <td>0</td>\n",
              "    </tr>\n",
              "    <tr>\n",
              "      <th>1331</th>\n",
              "      <td>1335</td>\n",
              "      <td>18</td>\n",
              "      <td>0</td>\n",
              "      <td>36.850</td>\n",
              "      <td>0</td>\n",
              "      <td>0</td>\n",
              "      <td>2</td>\n",
              "    </tr>\n",
              "    <tr>\n",
              "      <th>1332</th>\n",
              "      <td>1336</td>\n",
              "      <td>21</td>\n",
              "      <td>0</td>\n",
              "      <td>25.800</td>\n",
              "      <td>0</td>\n",
              "      <td>0</td>\n",
              "      <td>3</td>\n",
              "    </tr>\n",
              "    <tr>\n",
              "      <th>1333</th>\n",
              "      <td>1337</td>\n",
              "      <td>61</td>\n",
              "      <td>0</td>\n",
              "      <td>29.070</td>\n",
              "      <td>0</td>\n",
              "      <td>1</td>\n",
              "      <td>1</td>\n",
              "    </tr>\n",
              "  </tbody>\n",
              "</table>\n",
              "<p>1334 rows × 7 columns</p>\n",
              "</div>\n",
              "      <button class=\"colab-df-convert\" onclick=\"convertToInteractive('df-a9cd1c3d-1b72-4026-a07e-c56233b96a11')\"\n",
              "              title=\"Convert this dataframe to an interactive table.\"\n",
              "              style=\"display:none;\">\n",
              "        \n",
              "  <svg xmlns=\"http://www.w3.org/2000/svg\" height=\"24px\"viewBox=\"0 0 24 24\"\n",
              "       width=\"24px\">\n",
              "    <path d=\"M0 0h24v24H0V0z\" fill=\"none\"/>\n",
              "    <path d=\"M18.56 5.44l.94 2.06.94-2.06 2.06-.94-2.06-.94-.94-2.06-.94 2.06-2.06.94zm-11 1L8.5 8.5l.94-2.06 2.06-.94-2.06-.94L8.5 2.5l-.94 2.06-2.06.94zm10 10l.94 2.06.94-2.06 2.06-.94-2.06-.94-.94-2.06-.94 2.06-2.06.94z\"/><path d=\"M17.41 7.96l-1.37-1.37c-.4-.4-.92-.59-1.43-.59-.52 0-1.04.2-1.43.59L10.3 9.45l-7.72 7.72c-.78.78-.78 2.05 0 2.83L4 21.41c.39.39.9.59 1.41.59.51 0 1.02-.2 1.41-.59l7.78-7.78 2.81-2.81c.8-.78.8-2.07 0-2.86zM5.41 20L4 18.59l7.72-7.72 1.47 1.35L5.41 20z\"/>\n",
              "  </svg>\n",
              "      </button>\n",
              "      \n",
              "  <style>\n",
              "    .colab-df-container {\n",
              "      display:flex;\n",
              "      flex-wrap:wrap;\n",
              "      gap: 12px;\n",
              "    }\n",
              "\n",
              "    .colab-df-convert {\n",
              "      background-color: #E8F0FE;\n",
              "      border: none;\n",
              "      border-radius: 50%;\n",
              "      cursor: pointer;\n",
              "      display: none;\n",
              "      fill: #1967D2;\n",
              "      height: 32px;\n",
              "      padding: 0 0 0 0;\n",
              "      width: 32px;\n",
              "    }\n",
              "\n",
              "    .colab-df-convert:hover {\n",
              "      background-color: #E2EBFA;\n",
              "      box-shadow: 0px 1px 2px rgba(60, 64, 67, 0.3), 0px 1px 3px 1px rgba(60, 64, 67, 0.15);\n",
              "      fill: #174EA6;\n",
              "    }\n",
              "\n",
              "    [theme=dark] .colab-df-convert {\n",
              "      background-color: #3B4455;\n",
              "      fill: #D2E3FC;\n",
              "    }\n",
              "\n",
              "    [theme=dark] .colab-df-convert:hover {\n",
              "      background-color: #434B5C;\n",
              "      box-shadow: 0px 1px 3px 1px rgba(0, 0, 0, 0.15);\n",
              "      filter: drop-shadow(0px 1px 2px rgba(0, 0, 0, 0.3));\n",
              "      fill: #FFFFFF;\n",
              "    }\n",
              "  </style>\n",
              "\n",
              "      <script>\n",
              "        const buttonEl =\n",
              "          document.querySelector('#df-a9cd1c3d-1b72-4026-a07e-c56233b96a11 button.colab-df-convert');\n",
              "        buttonEl.style.display =\n",
              "          google.colab.kernel.accessAllowed ? 'block' : 'none';\n",
              "\n",
              "        async function convertToInteractive(key) {\n",
              "          const element = document.querySelector('#df-a9cd1c3d-1b72-4026-a07e-c56233b96a11');\n",
              "          const dataTable =\n",
              "            await google.colab.kernel.invokeFunction('convertToInteractive',\n",
              "                                                     [key], {});\n",
              "          if (!dataTable) return;\n",
              "\n",
              "          const docLinkHtml = 'Like what you see? Visit the ' +\n",
              "            '<a target=\"_blank\" href=https://colab.research.google.com/notebooks/data_table.ipynb>data table notebook</a>'\n",
              "            + ' to learn more about interactive tables.';\n",
              "          element.innerHTML = '';\n",
              "          dataTable['output_type'] = 'display_data';\n",
              "          await google.colab.output.renderOutput(dataTable, element);\n",
              "          const docLink = document.createElement('div');\n",
              "          docLink.innerHTML = docLinkHtml;\n",
              "          element.appendChild(docLink);\n",
              "        }\n",
              "      </script>\n",
              "    </div>\n",
              "  </div>\n",
              "  "
            ]
          },
          "metadata": {},
          "execution_count": 46
        }
      ]
    },
    {
      "cell_type": "code",
      "source": [
        "y"
      ],
      "metadata": {
        "colab": {
          "base_uri": "https://localhost:8080/"
        },
        "id": "UHglk1Wt8gxQ",
        "outputId": "f5335bb5-7ef8-4815-a188-05ac9f6304c7"
      },
      "execution_count": 47,
      "outputs": [
        {
          "output_type": "execute_result",
          "data": {
            "text/plain": [
              "0       16884.92400\n",
              "1        1725.55230\n",
              "2        4449.46200\n",
              "3       21984.47061\n",
              "4        3866.85520\n",
              "           ...     \n",
              "1329    10600.54830\n",
              "1330     2205.98080\n",
              "1331     1629.83350\n",
              "1332     2007.94500\n",
              "1333    29141.36030\n",
              "Name: charges, Length: 1334, dtype: float64"
            ]
          },
          "metadata": {},
          "execution_count": 47
        }
      ]
    },
    {
      "cell_type": "code",
      "source": [
        "X_train, X_test, y_train, y_test = train_test_split(X, y, test_size=0.33, random_state=42)"
      ],
      "metadata": {
        "id": "tY06ol3n9pWZ"
      },
      "execution_count": 48,
      "outputs": []
    },
    {
      "cell_type": "markdown",
      "source": [
        "# Model Selection"
      ],
      "metadata": {
        "id": "N9r5uht6fPyF"
      }
    },
    {
      "cell_type": "markdown",
      "source": [
        "### Linear Regression"
      ],
      "metadata": {
        "id": "ZaQCGawfd_EK"
      }
    },
    {
      "cell_type": "code",
      "source": [
        "linear_reg = LinearRegression()\n",
        "linear_reg = linear_reg.fit(X_train, y_train)\n",
        "linear_pred = linear_reg.predict(X_test)"
      ],
      "metadata": {
        "id": "HQ_jhQAvW8v4"
      },
      "execution_count": 49,
      "outputs": []
    },
    {
      "cell_type": "code",
      "source": [
        "score = cross_val_score(linear_reg, X_train, y_train, cv=5, scoring=\"r2\")"
      ],
      "metadata": {
        "id": "MS83TKrzwuar"
      },
      "execution_count": 50,
      "outputs": []
    },
    {
      "cell_type": "code",
      "source": [
        "print('Logistic Regressor score:', score.mean())"
      ],
      "metadata": {
        "colab": {
          "base_uri": "https://localhost:8080/"
        },
        "id": "dEKsaOAO059I",
        "outputId": "0196b4bc-a2f9-4982-b38e-52933f38213c"
      },
      "execution_count": 51,
      "outputs": [
        {
          "output_type": "stream",
          "name": "stdout",
          "text": [
            "Logistic Regressor score: 0.7413669856645775\n"
          ]
        }
      ]
    },
    {
      "cell_type": "markdown",
      "source": [
        "### SVM Regressor"
      ],
      "metadata": {
        "id": "OYbvfXteeC0N"
      }
    },
    {
      "cell_type": "code",
      "source": [
        "svm_regressor = SVR(kernel = 'rbf')\n",
        "svm_regressor.fit(X_train, y_train)"
      ],
      "metadata": {
        "id": "gw3-WVlucL7N"
      },
      "execution_count": null,
      "outputs": []
    },
    {
      "cell_type": "code",
      "source": [
        "score = cross_val_score(svm_regressor, X_train, y_train, cv=5, scoring=\"r2\")"
      ],
      "metadata": {
        "id": "srSm85wyxeAI"
      },
      "execution_count": 53,
      "outputs": []
    },
    {
      "cell_type": "code",
      "source": [
        "print('SVM Regressor score:', score.mean())"
      ],
      "metadata": {
        "colab": {
          "base_uri": "https://localhost:8080/"
        },
        "id": "gYy4f25_0mzQ",
        "outputId": "6dab5369-b69b-4f6f-983b-9ebf5d15e02b"
      },
      "execution_count": 54,
      "outputs": [
        {
          "output_type": "stream",
          "name": "stdout",
          "text": [
            "SVM Regressor score: -0.10773730933451042\n"
          ]
        }
      ]
    },
    {
      "cell_type": "markdown",
      "source": [
        "### Ridge Regression"
      ],
      "metadata": {
        "id": "rr31zC1pfJIJ"
      }
    },
    {
      "cell_type": "code",
      "source": [
        "ridge_regressor = Ridge(alpha=1.0)\n",
        "ridge_regressor.fit(X_train, y_train)"
      ],
      "metadata": {
        "id": "9O8L-c2fdxB5"
      },
      "execution_count": null,
      "outputs": []
    },
    {
      "cell_type": "code",
      "source": [
        "score = cross_val_score(ridge_regressor, X_train, y_train, cv=5, scoring=\"r2\")"
      ],
      "metadata": {
        "id": "fqO8mn4txiX3"
      },
      "execution_count": 56,
      "outputs": []
    },
    {
      "cell_type": "code",
      "source": [
        "print('Ridge Regressor score:', score.mean())"
      ],
      "metadata": {
        "colab": {
          "base_uri": "https://localhost:8080/"
        },
        "id": "lOwa8hs01ORE",
        "outputId": "3f2fdf01-1fc8-4597-aaaf-8e03eaa21d56"
      },
      "execution_count": 57,
      "outputs": [
        {
          "output_type": "stream",
          "name": "stdout",
          "text": [
            "Ridge Regressor score: 0.7413638643430396\n"
          ]
        }
      ]
    },
    {
      "cell_type": "markdown",
      "source": [
        "### KNN Regressor "
      ],
      "metadata": {
        "id": "QI33WO0uhzPf"
      }
    },
    {
      "cell_type": "code",
      "source": [
        "knn_reg = KNeighborsRegressor()\n",
        "knn_reg.fit(X_train, y_train)"
      ],
      "metadata": {
        "id": "lqFPevQrhq98"
      },
      "execution_count": null,
      "outputs": []
    },
    {
      "cell_type": "code",
      "source": [
        "score = cross_val_score(knn_reg, X_train, y_train, cv=5, scoring=\"r2\")"
      ],
      "metadata": {
        "id": "LYGL3pm9xqWP"
      },
      "execution_count": 59,
      "outputs": []
    },
    {
      "cell_type": "code",
      "source": [
        "print('KNN Regressor score:', score.mean())"
      ],
      "metadata": {
        "colab": {
          "base_uri": "https://localhost:8080/"
        },
        "id": "cTAyJEqv0aHB",
        "outputId": "533aab9f-0e6d-4f0b-b261-502e10ae1469"
      },
      "execution_count": 60,
      "outputs": [
        {
          "output_type": "stream",
          "name": "stdout",
          "text": [
            "KNN Regressor score: -0.06886551672901511\n"
          ]
        }
      ]
    },
    {
      "cell_type": "markdown",
      "source": [
        "## MLP Regressor"
      ],
      "metadata": {
        "id": "bmzDA3lWxnFg"
      }
    },
    {
      "cell_type": "code",
      "source": [
        "mlp_reg = MLPRegressor()\n",
        "mlp_reg.fit(X_train, y_train)"
      ],
      "metadata": {
        "id": "rRvuWcAqi6c9"
      },
      "execution_count": null,
      "outputs": []
    },
    {
      "cell_type": "code",
      "source": [
        "score = cross_val_score(mlp_reg, X_train, y_train, cv=5, scoring=\"r2\")"
      ],
      "metadata": {
        "id": "zhphlM6ZxujY"
      },
      "execution_count": null,
      "outputs": []
    },
    {
      "cell_type": "code",
      "source": [
        "print('MLP Regressor score:', score.mean())"
      ],
      "metadata": {
        "colab": {
          "base_uri": "https://localhost:8080/"
        },
        "id": "oi-HfsPszuV3",
        "outputId": "4a658184-da2f-4b9e-f79b-3c44fbf7badc"
      },
      "execution_count": 63,
      "outputs": [
        {
          "output_type": "stream",
          "name": "stdout",
          "text": [
            "MLP Regressor score: -0.1908839680947892\n"
          ]
        }
      ]
    },
    {
      "cell_type": "markdown",
      "source": [
        "## Random Forest Regressor"
      ],
      "metadata": {
        "id": "3qsUz3-6mQIq"
      }
    },
    {
      "cell_type": "code",
      "source": [
        "random_forest_reg = RandomForestRegressor()\n",
        "random_forest_reg.fit(X_train, y_train)"
      ],
      "metadata": {
        "id": "3ig-WNJ6i_ht"
      },
      "execution_count": null,
      "outputs": []
    },
    {
      "cell_type": "code",
      "source": [
        "score = cross_val_score(random_forest_reg, X_train, y_train, cv=5, scoring=\"r2\")"
      ],
      "metadata": {
        "id": "t1DHevujx3CP"
      },
      "execution_count": 65,
      "outputs": []
    },
    {
      "cell_type": "code",
      "source": [
        "print('Random Forest Regressor score:', score.mean())"
      ],
      "metadata": {
        "colab": {
          "base_uri": "https://localhost:8080/"
        },
        "id": "zUa18pyX0GBg",
        "outputId": "c8efc490-dff7-47e4-912b-46e2391f2b01"
      },
      "execution_count": 66,
      "outputs": [
        {
          "output_type": "stream",
          "name": "stdout",
          "text": [
            "Random Forest Regressor score: 0.8398148357538215\n"
          ]
        }
      ]
    },
    {
      "cell_type": "markdown",
      "source": [
        "## XGBoost Regresssor"
      ],
      "metadata": {
        "id": "s57HLKpOqReK"
      }
    },
    {
      "cell_type": "code",
      "source": [
        "xgb_regressor = xg.XGBRegressor()\n",
        "xgb_regressor.fit(X_train, y_train)"
      ],
      "metadata": {
        "id": "EF4_zMLCqU-E"
      },
      "execution_count": null,
      "outputs": []
    },
    {
      "cell_type": "code",
      "source": [
        "score = cross_val_score(xgb_regressor, X_train, y_train, cv=5, scoring=\"r2\")"
      ],
      "metadata": {
        "id": "D1GalpkDx_No"
      },
      "execution_count": null,
      "outputs": []
    },
    {
      "cell_type": "code",
      "source": [
        "print('XGBoost Regresssor score:', score.mean())"
      ],
      "metadata": {
        "colab": {
          "base_uri": "https://localhost:8080/"
        },
        "id": "vLZQaRd00QF3",
        "outputId": "e540637e-fe38-4feb-e7fd-96457e03b132"
      },
      "execution_count": 69,
      "outputs": [
        {
          "output_type": "stream",
          "name": "stdout",
          "text": [
            "XGBoost Regresssor score: 0.8531477400335922\n"
          ]
        }
      ]
    },
    {
      "cell_type": "markdown",
      "source": [
        "# Hyper Parameter Optimization"
      ],
      "metadata": {
        "id": "jRzlMby6pQVW"
      }
    },
    {
      "cell_type": "markdown",
      "source": [
        "We choose XGBoost as a best performing model. We ll fix hyper parameters to more optimize the model."
      ],
      "metadata": {
        "id": "a6Y0x6FHpeAp"
      }
    },
    {
      "cell_type": "code",
      "source": [
        "model = xg.XGBRegressor()"
      ],
      "metadata": {
        "id": "REvaZgHx2UcV"
      },
      "execution_count": 70,
      "outputs": []
    },
    {
      "cell_type": "code",
      "source": [
        "hyperparameter_grid = {\n",
        "    'n_estimators': [100, 500, 900, 1100, 1500],\n",
        "    'max_depth': [3, 5, 10, 15],\n",
        "    'learning_rate': [0.05, 0.1, 0.15, 0.20],\n",
        "    'min_child_weight': [1, 2, 3, 4]\n",
        "    }"
      ],
      "metadata": {
        "id": "CMPJzxqy17T6"
      },
      "execution_count": 71,
      "outputs": []
    },
    {
      "cell_type": "code",
      "source": [
        "xgb_grid = GridSearchCV(model,\n",
        "                        hyperparameter_grid,\n",
        "                        cv = 2,\n",
        "                        n_jobs = 5,\n",
        "                        verbose=True)"
      ],
      "metadata": {
        "id": "Umw1zd4k2C2d"
      },
      "execution_count": 72,
      "outputs": []
    },
    {
      "cell_type": "code",
      "source": [
        "xgb_grid.fit(X_train, y_train)"
      ],
      "metadata": {
        "id": "xyLZ-LeuvMTJ"
      },
      "execution_count": null,
      "outputs": []
    },
    {
      "cell_type": "code",
      "source": [
        "print(xgb_grid.best_score_)\n",
        "print(xgb_grid.best_params_)"
      ],
      "metadata": {
        "colab": {
          "base_uri": "https://localhost:8080/"
        },
        "id": "CLmI1xK_vQh_",
        "outputId": "8db55d19-0ff5-4864-99fb-125a6262e3d4"
      },
      "execution_count": 74,
      "outputs": [
        {
          "output_type": "stream",
          "name": "stdout",
          "text": [
            "0.8532379792388136\n",
            "{'learning_rate': 0.05, 'max_depth': 3, 'min_child_weight': 4, 'n_estimators': 100}\n"
          ]
        }
      ]
    },
    {
      "cell_type": "code",
      "source": [
        "hyperparameter_grid = {\n",
        "    'n_estimators': [50, 100],\n",
        "    'max_depth': [1, 2, 3],\n",
        "    'learning_rate': [0.01, 0.05],\n",
        "    'min_child_weight': [4, 6]\n",
        "    }"
      ],
      "metadata": {
        "id": "C7bKv6RW4Gc-"
      },
      "execution_count": 75,
      "outputs": []
    },
    {
      "cell_type": "code",
      "source": [
        "xgb_grid = GridSearchCV(model,\n",
        "                        hyperparameter_grid,\n",
        "                        cv = 2,\n",
        "                        n_jobs = 5,\n",
        "                        verbose=True)"
      ],
      "metadata": {
        "id": "MX6K2QRv4Y3F"
      },
      "execution_count": 76,
      "outputs": []
    },
    {
      "cell_type": "code",
      "source": [
        "xgb_grid.fit(X_train, y_train)"
      ],
      "metadata": {
        "id": "LrVO_EHZ4bJ4"
      },
      "execution_count": null,
      "outputs": []
    },
    {
      "cell_type": "code",
      "source": [
        "print(xgb_grid.best_score_)\n",
        "print(xgb_grid.best_params_)"
      ],
      "metadata": {
        "colab": {
          "base_uri": "https://localhost:8080/"
        },
        "id": "RodPzX5V4dBN",
        "outputId": "9cf758b0-7389-42f2-d203-3962f148162c"
      },
      "execution_count": 78,
      "outputs": [
        {
          "output_type": "stream",
          "name": "stdout",
          "text": [
            "0.8549946275395255\n",
            "{'learning_rate': 0.05, 'max_depth': 3, 'min_child_weight': 6, 'n_estimators': 100}\n"
          ]
        }
      ]
    },
    {
      "cell_type": "code",
      "source": [
        "hyperparameter_grid = {\n",
        "    'n_estimators': [75, 100, 150],\n",
        "    'max_depth': [3],\n",
        "    'learning_rate': [0.01, 0.05],\n",
        "    'min_child_weight': [4, 5, 6, 8, 10]\n",
        "    }"
      ],
      "metadata": {
        "id": "Zcjjs66e4szl"
      },
      "execution_count": 79,
      "outputs": []
    },
    {
      "cell_type": "code",
      "source": [
        "xgb_grid = GridSearchCV(model,\n",
        "                        hyperparameter_grid,\n",
        "                        cv = 2,\n",
        "                        n_jobs = 5,\n",
        "                        verbose=True)"
      ],
      "metadata": {
        "id": "urGR_3OO5E4c"
      },
      "execution_count": 80,
      "outputs": []
    },
    {
      "cell_type": "code",
      "source": [
        "xgb_grid.fit(X_train, y_train)"
      ],
      "metadata": {
        "id": "98YxLUu55Gha"
      },
      "execution_count": null,
      "outputs": []
    },
    {
      "cell_type": "code",
      "source": [
        "print(xgb_grid.best_score_)\n",
        "print(xgb_grid.best_params_)"
      ],
      "metadata": {
        "colab": {
          "base_uri": "https://localhost:8080/"
        },
        "id": "eHHiKnyK5IAq",
        "outputId": "8a002efb-f36c-4515-fa6c-5a08ff053b81"
      },
      "execution_count": 82,
      "outputs": [
        {
          "output_type": "stream",
          "name": "stdout",
          "text": [
            "0.855774858274841\n",
            "{'learning_rate': 0.05, 'max_depth': 3, 'min_child_weight': 8, 'n_estimators': 150}\n"
          ]
        }
      ]
    },
    {
      "cell_type": "code",
      "source": [
        "hyperparameter_grid = {\n",
        "    'n_estimators': [150, 300, 500, 1000, 2000, 4000],\n",
        "    'max_depth': [3],\n",
        "    'learning_rate': [0.02, 0.05],\n",
        "    'min_child_weight': [7, 8]\n",
        "    }"
      ],
      "metadata": {
        "id": "emZ2yL0f5Rim"
      },
      "execution_count": 83,
      "outputs": []
    },
    {
      "cell_type": "code",
      "source": [
        "xgb_grid = GridSearchCV(model,\n",
        "                        hyperparameter_grid,\n",
        "                        cv = 2,\n",
        "                        n_jobs = 5,\n",
        "                        verbose=True)"
      ],
      "metadata": {
        "id": "kBFkVcBK5jS6"
      },
      "execution_count": 84,
      "outputs": []
    },
    {
      "cell_type": "code",
      "source": [
        "xgb_grid.fit(X_train, y_train)"
      ],
      "metadata": {
        "id": "AUnUrgU-5oZB"
      },
      "execution_count": null,
      "outputs": []
    },
    {
      "cell_type": "code",
      "source": [
        "print(xgb_grid.best_score_)\n",
        "print(xgb_grid.best_params_)"
      ],
      "metadata": {
        "colab": {
          "base_uri": "https://localhost:8080/"
        },
        "id": "lerVTbaP5tE3",
        "outputId": "ea41df5d-7b2d-4b20-8b0c-23be1b507920"
      },
      "execution_count": 86,
      "outputs": [
        {
          "output_type": "stream",
          "name": "stdout",
          "text": [
            "0.855774858274841\n",
            "{'learning_rate': 0.05, 'max_depth': 3, 'min_child_weight': 8, 'n_estimators': 150}\n"
          ]
        }
      ]
    },
    {
      "cell_type": "markdown",
      "source": [
        "Comparison of default and optimized hyper paramaters versions"
      ],
      "metadata": {
        "id": "G_mEpITa6wr1"
      }
    },
    {
      "cell_type": "code",
      "source": [
        "print('default\\'s score:', score.mean())\n",
        "print('optimized hyperparameters\\'s score:', xgb_grid.best_score_)"
      ],
      "metadata": {
        "id": "YXrdcX4P8bOq"
      },
      "execution_count": null,
      "outputs": []
    },
    {
      "cell_type": "markdown",
      "source": [
        "# Model evaluation"
      ],
      "metadata": {
        "id": "K2ZPTtym9VO2"
      }
    },
    {
      "cell_type": "code",
      "source": [
        "model = xg.XGBRegressor(**xgb_grid.best_params_)\n",
        "model.fit(X_train, y_train)"
      ],
      "metadata": {
        "id": "ta2m-iqP-X7C"
      },
      "execution_count": null,
      "outputs": []
    },
    {
      "cell_type": "code",
      "source": [
        "model_preds = model.predict(X_test)"
      ],
      "metadata": {
        "id": "nvM7zGeB-tEC"
      },
      "execution_count": 89,
      "outputs": []
    },
    {
      "cell_type": "code",
      "source": [
        "print('#----- XGBoost Regresssion -----#')\n",
        "mse = mean_squared_error(y_test, model_preds)\n",
        "print('Mean Squared Error:', mse)\n",
        "\n",
        "mae = mean_absolute_error(y_test, model_preds)\n",
        "print('Mean Absolute Error:', mae)\n",
        "\n",
        "mape = mean_absolute_percentage_error(y_test, model_preds)\n",
        "print('Mean Absolute Percentage Error:', mape)"
      ],
      "metadata": {
        "colab": {
          "base_uri": "https://localhost:8080/"
        },
        "id": "VvEDvbYJ-Dz6",
        "outputId": "eb195da8-2a88-4c21-93e5-5e926ac4a3c5"
      },
      "execution_count": 90,
      "outputs": [
        {
          "output_type": "stream",
          "name": "stdout",
          "text": [
            "#----- XGBoost Regresssion -----#\n",
            "Mean Squared Error: 19913650.3464449\n",
            "Mean Absolute Error: 2461.980495729388\n",
            "Mean Absolute Percentage Error: 0.2814575738265074\n"
          ]
        }
      ]
    }
  ]
}